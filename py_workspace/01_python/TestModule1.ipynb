{
 "cells": [
  {
   "cell_type": "code",
   "execution_count": null,
   "metadata": {},
   "outputs": [],
   "source": [
    "from myGame import makeLotto, meanGrade\n",
    "\n",
    "while True:\n",
    "    nums = int(input('원하는 기능을 입력하세요 1번 makeLotto, 2번 meanGrade'))\n",
    "    if nums==1:\n",
    "        makeLottoNum = int(input('원하는 로또 게임 횟수를 입력해주세요'))\n",
    "        makeLotto(makeLottoNum)\n",
    "        break\n",
    "    elif nums==2:\n",
    "        meanGradeNum = input('학점을 입력해주세요 ex) A+,A-,B-')\n",
    "        meanGrade(meanGradeNum)\n",
    "        break\n"
   ]
  }
 ],
 "metadata": {
  "kernelspec": {
   "display_name": "Python 3",
   "language": "python",
   "name": "python3"
  },
  "language_info": {
   "codemirror_mode": {
    "name": "ipython",
    "version": 3
   },
   "file_extension": ".py",
   "mimetype": "text/x-python",
   "name": "python",
   "nbconvert_exporter": "python",
   "pygments_lexer": "ipython3",
   "version": "3.7.6"
  }
 },
 "nbformat": 4,
 "nbformat_minor": 4
}
