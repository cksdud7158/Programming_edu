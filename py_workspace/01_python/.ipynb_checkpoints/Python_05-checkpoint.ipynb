{
 "cells": [
  {
   "cell_type": "markdown",
   "metadata": {},
   "source": [
    "# 함수"
   ]
  },
  {
   "cell_type": "code",
   "execution_count": null,
   "metadata": {},
   "outputs": [],
   "source": [
    "'''\n",
    "    머신러닝, 딥러닝을 하다보면 \n",
    "    함수를 위가 정의해서 사용하는 경우가 많이 있다. \n",
    "    \n",
    "    1. 기본 문법\n",
    "    def 함수이름(매개변수):\n",
    "        \"\"\"\n",
    "            docstring... 함수 기능에 대한 설명...\n",
    "        \"\"\"\n",
    "        <수행할 기능 작성>\n",
    "        \n",
    "        return @@ (없으면 작성 안해도 상관 없음 )\n",
    "        \n",
    "        \n",
    "    2. 함수를 만드는 4가지 방법\n",
    "        - 위치 매개변수\n",
    "        - 기본 매개변수\n",
    "        - 키워드 매개변수\n",
    "        - 가변 매개변수 \n",
    "    \n",
    "        \n",
    "'''"
   ]
  },
  {
   "cell_type": "code",
   "execution_count": 3,
   "metadata": {},
   "outputs": [],
   "source": [
    "# 1. 위치 매개변수\n",
    "# 가장 기본적인 인자값을 전달하는 방식, 함수에서 정의한 위치대로 인자값 할당\n",
    "# doc string 조차도 들여쓰기를 주의해야한다. \n",
    "\n",
    "def calc(num1, num2):\n",
    "    '''\n",
    "    인자값으로 받은 num1, num2\n",
    "    2개의 숫자값을 더해서 result 에 할당\n",
    "    그 값을 리턴하는 기능\n",
    "    '''\n",
    "    result = num1+num2\n",
    "    return result"
   ]
  },
  {
   "cell_type": "code",
   "execution_count": 4,
   "metadata": {},
   "outputs": [
    {
     "name": "stdout",
     "output_type": "stream",
     "text": [
      "8\n"
     ]
    }
   ],
   "source": [
    "print(calc(3,5))"
   ]
  },
  {
   "cell_type": "code",
   "execution_count": 5,
   "metadata": {},
   "outputs": [],
   "source": [
    "# calc? # 함수에 대한 전반적인 설명 ..docstring 이 나온다.\n",
    "calc?? # 함수에 대한 소스코드가 보인다."
   ]
  },
  {
   "cell_type": "code",
   "execution_count": 7,
   "metadata": {},
   "outputs": [],
   "source": [
    "# 리턴값이 없는 경우\n",
    "def add(a,b):\n",
    "    print('%d와 %d 의 합은 %d 입니다. ' %(a,b,(a+b)))"
   ]
  },
  {
   "cell_type": "code",
   "execution_count": 9,
   "metadata": {},
   "outputs": [
    {
     "name": "stdout",
     "output_type": "stream",
     "text": [
      "3와 4 의 합은 7 입니다. \n",
      "3와 4 의 합은 7 입니다. \n",
      "None\n"
     ]
    }
   ],
   "source": [
    "add(3,4)\n",
    "print(add(3,4))"
   ]
  },
  {
   "cell_type": "code",
   "execution_count": null,
   "metadata": {},
   "outputs": [],
   "source": [
    "# 기본 매개변수 \n",
    "# import random\n",
    "# com = random.randrange?\n",
    "'''\n",
    "    변수값이 입력되지않으면 기본값이 활성됨\n",
    "    기본 매개변수 뒤에 일반(위치)매개변수가 올수 없음\n",
    "'''"
   ]
  },
  {
   "cell_type": "code",
   "execution_count": 15,
   "metadata": {},
   "outputs": [
    {
     "name": "stdout",
     "output_type": "stream",
     "text": [
      "3\n",
      "3\n"
     ]
    }
   ],
   "source": [
    "def calc1(num1, start=0):\n",
    "    '''\n",
    "    '''\n",
    "    total=0\n",
    "    for i in range(start, num1):\n",
    "        total += i\n",
    "    return total\n",
    "print(calc1(3,1))\n",
    "print(calc1(3))"
   ]
  },
  {
   "cell_type": "code",
   "execution_count": 19,
   "metadata": {},
   "outputs": [],
   "source": [
    "'''\n",
    "    pandas의 read_csv()를 대표적으로 살펴보면\n",
    "    일반(위치)매개변수보다 기본 매개변수를 훨씬 많이 쓰고 있다는것을 알 수 있다. \n",
    "'''\n",
    "# import pandas as pd\n",
    "# from pandas import DataFrame\n",
    "# pd.read_csv?"
   ]
  },
  {
   "cell_type": "code",
   "execution_count": 25,
   "metadata": {},
   "outputs": [],
   "source": [
    "# 3. 키워드 매개변수 : 순서에 상관없이 직접 매개변수를 지정해서 찾아감\n",
    "\n",
    "def calc(name, age, weight):\n",
    "    print('나의 이름은',name,'이고 나이는',age,'입니다. 몸무게는',weight)"
   ]
  },
  {
   "cell_type": "code",
   "execution_count": 28,
   "metadata": {},
   "outputs": [
    {
     "name": "stdout",
     "output_type": "stream",
     "text": [
      "나의 이름은 홍길동 이고 나이는 19 입니다. 몸무게는 40\n",
      "나의 이름은 홍길동 이고 나이는 40 입니다. 몸무게는 19\n",
      "나의 이름은 홍길동 이고 나이는 19 입니다. 몸무게는 40\n"
     ]
    }
   ],
   "source": [
    "calc('홍길동',19, 40) # 위치매개변수 \n",
    "calc('홍길동',40, 19) \n",
    "calc(age=19, weight=40, name='홍길동') # 키워드 매개변수 \n"
   ]
  },
  {
   "cell_type": "code",
   "execution_count": 33,
   "metadata": {},
   "outputs": [
    {
     "data": {
      "text/html": [
       "<div>\n",
       "<style scoped>\n",
       "    .dataframe tbody tr th:only-of-type {\n",
       "        vertical-align: middle;\n",
       "    }\n",
       "\n",
       "    .dataframe tbody tr th {\n",
       "        vertical-align: top;\n",
       "    }\n",
       "\n",
       "    .dataframe thead th {\n",
       "        text-align: right;\n",
       "    }\n",
       "</style>\n",
       "<table border=\"1\" class=\"dataframe\">\n",
       "  <thead>\n",
       "    <tr style=\"text-align: right;\">\n",
       "      <th></th>\n",
       "      <th>e</th>\n",
       "      <th>f</th>\n",
       "      <th>g</th>\n",
       "      <th>h</th>\n",
       "    </tr>\n",
       "  </thead>\n",
       "  <tbody>\n",
       "    <tr>\n",
       "      <th>a</th>\n",
       "      <td>0.145044</td>\n",
       "      <td>-0.323142</td>\n",
       "      <td>0.196328</td>\n",
       "      <td>0.289489</td>\n",
       "    </tr>\n",
       "    <tr>\n",
       "      <th>b</th>\n",
       "      <td>0.724832</td>\n",
       "      <td>0.106051</td>\n",
       "      <td>-0.821312</td>\n",
       "      <td>1.003630</td>\n",
       "    </tr>\n",
       "    <tr>\n",
       "      <th>c</th>\n",
       "      <td>-0.697983</td>\n",
       "      <td>-1.856873</td>\n",
       "      <td>-1.528261</td>\n",
       "      <td>-0.661582</td>\n",
       "    </tr>\n",
       "    <tr>\n",
       "      <th>d</th>\n",
       "      <td>1.683050</td>\n",
       "      <td>0.766522</td>\n",
       "      <td>0.685718</td>\n",
       "      <td>1.697570</td>\n",
       "    </tr>\n",
       "  </tbody>\n",
       "</table>\n",
       "</div>"
      ],
      "text/plain": [
       "          e         f         g         h\n",
       "a  0.145044 -0.323142  0.196328  0.289489\n",
       "b  0.724832  0.106051 -0.821312  1.003630\n",
       "c -0.697983 -1.856873 -1.528261 -0.661582\n",
       "d  1.683050  0.766522  0.685718  1.697570"
      ]
     },
     "execution_count": 33,
     "metadata": {},
     "output_type": "execute_result"
    }
   ],
   "source": [
    "#키워드 매개변수 의 예 \n",
    "import numpy as np \n",
    "import pandas as pd\n",
    "from pandas import DataFrame\n",
    "\n",
    "df1= DataFrame(np.random.randn(4,4),\n",
    "               index=list('abcd'),\n",
    "               columns=list('efgh')\n",
    "              )\n",
    "df1"
   ]
  },
  {
   "cell_type": "code",
   "execution_count": 37,
   "metadata": {},
   "outputs": [
    {
     "name": "stdout",
     "output_type": "stream",
     "text": [
      "(3, 4, 5, 6)\n",
      "(3,)\n"
     ]
    }
   ],
   "source": [
    "# 4. 가변 매개변수 : 인자값이 몇개인지 모르는 상황에서 사용 \n",
    "# 파이썬에서의 print()\n",
    "# 일반 매개변수와는 달리 변수며앞에 *이 붙는다. \n",
    "# 일반 매개변수 앞에는 사용할 수 없다.\n",
    "# 가변 매개변수는 단 하나만 사용 가능\n",
    "\n",
    "def calc3(*args):\n",
    "    print(args)\n",
    "calc3(3,4,5,6) # 결과가 튜플 타입으로 출력된다. \n",
    "calc3(3)"
   ]
  },
  {
   "cell_type": "code",
   "execution_count": 45,
   "metadata": {},
   "outputs": [
    {
     "name": "stdout",
     "output_type": "stream",
     "text": [
      "{'name': '홍길동', 'age': 19, 'address': '민속촉'}\n"
     ]
    }
   ],
   "source": [
    "def calc4(**args2):\n",
    "    print(args2)\n",
    "    \n",
    "# calc4(3,4) #에러난다.\n",
    "# ** 일때는 딕셔너리 타입으로 입력해야한다.\n",
    "calc4(name='홍길동', age=19, address='민속촉')"
   ]
  },
  {
   "cell_type": "code",
   "execution_count": 53,
   "metadata": {},
   "outputs": [
    {
     "ename": "TypeError",
     "evalue": "calc5() missing 1 required keyword-only argument: 'name'",
     "output_type": "error",
     "traceback": [
      "\u001b[1;31m---------------------------------------------------------------------------\u001b[0m",
      "\u001b[1;31mTypeError\u001b[0m                                 Traceback (most recent call last)",
      "\u001b[1;32m<ipython-input-53-96580d91af93>\u001b[0m in \u001b[0;36m<module>\u001b[1;34m\u001b[0m\n\u001b[0;32m      2\u001b[0m     \u001b[0mprint\u001b[0m\u001b[1;33m(\u001b[0m\u001b[0mname\u001b[0m\u001b[1;33m,\u001b[0m\u001b[1;34m':'\u001b[0m\u001b[1;33m,\u001b[0m\u001b[0margs\u001b[0m\u001b[1;33m)\u001b[0m\u001b[1;33m\u001b[0m\u001b[1;33m\u001b[0m\u001b[0m\n\u001b[0;32m      3\u001b[0m \u001b[1;33m\u001b[0m\u001b[0m\n\u001b[1;32m----> 4\u001b[1;33m \u001b[0mcalc5\u001b[0m\u001b[1;33m(\u001b[0m\u001b[1;36m3\u001b[0m\u001b[1;33m,\u001b[0m\u001b[1;36m4\u001b[0m\u001b[1;33m)\u001b[0m\u001b[1;33m\u001b[0m\u001b[1;33m\u001b[0m\u001b[0m\n\u001b[0m",
      "\u001b[1;31mTypeError\u001b[0m: calc5() missing 1 required keyword-only argument: 'name'"
     ]
    }
   ],
   "source": [
    "def calc5(name,*args):\n",
    "    print(name,':',args)\n",
    "\n",
    "calc5(3,4)"
   ]
  },
  {
   "cell_type": "markdown",
   "metadata": {},
   "source": [
    "# 문제 1"
   ]
  },
  {
   "cell_type": "code",
   "execution_count": null,
   "metadata": {},
   "outputs": [],
   "source": [
    "'''\n",
    "    가변 매개변수와 위치 매개변수를 사용해서 \n",
    "    3\n",
    "    6\n",
    "    9\n",
    "    가 출력되도록 함수를 정의 \n",
    "    이때 1)위치 매개변수에는 인자값 3을 넣어서 호출되도록 \n",
    "         2) for문 사용\n",
    "'''"
   ]
  },
  {
   "cell_type": "code",
   "execution_count": 56,
   "metadata": {},
   "outputs": [
    {
     "name": "stdout",
     "output_type": "stream",
     "text": [
      "3\n",
      "6\n",
      "9\n"
     ]
    }
   ],
   "source": [
    "def value_times(times, *values):\n",
    "    for i in values:\n",
    "        print(times*i)\n",
    "    \n",
    "value_times(3,1,2,3)"
   ]
  },
  {
   "cell_type": "markdown",
   "metadata": {},
   "source": [
    "# 문제 2 가변매개변수와 기본매개변수 사용"
   ]
  },
  {
   "cell_type": "code",
   "execution_count": 58,
   "metadata": {},
   "outputs": [],
   "source": [
    "def value_times(*values, times=2):\n",
    "    for value in values:\n",
    "        print(times * value)"
   ]
  },
  {
   "cell_type": "code",
   "execution_count": 61,
   "metadata": {},
   "outputs": [
    {
     "name": "stdout",
     "output_type": "stream",
     "text": [
      "5\n",
      "10\n",
      "15\n",
      "20\n",
      "####################################################################################################\n"
     ]
    }
   ],
   "source": [
    "value_times(1,2,3,4,times=5)\n",
    "print('#'*100)\n",
    "value_times(1,2,3,4)\n",
    "print('#'*100)\n",
    "print('#'*100)"
   ]
  },
  {
   "cell_type": "code",
   "execution_count": 62,
   "metadata": {},
   "outputs": [],
   "source": [
    "def value_times2(times=2,*values):\n",
    "    for value in values:\n",
    "        print(times * value)"
   ]
  },
  {
   "cell_type": "code",
   "execution_count": 68,
   "metadata": {},
   "outputs": [
    {
     "name": "stdout",
     "output_type": "stream",
     "text": [
      "2\n",
      "3\n",
      "4\n"
     ]
    }
   ],
   "source": [
    "# value_times2(times=5,1,2,3,4) # 이건 안됨\n",
    "value_times2(1,2,3,4) # 이건 됨\n"
   ]
  },
  {
   "cell_type": "markdown",
   "metadata": {},
   "source": [
    "### Custom 함수 정의하기"
   ]
  },
  {
   "cell_type": "code",
   "execution_count": null,
   "metadata": {},
   "outputs": [],
   "source": [
    "'''\n",
    "    파이썬이 제공하는 함수는 사용하지않고 \n",
    "    아래와 같은 가능을 실행할 수 있는 함수 5개를 정의 \n",
    "    getSum(data) : 전달받은 데이타의 합을 구해서 리턴하는 기능 \n",
    "    getMean(data) : 평균 리턴\n",
    "    getMax(data) : 최대값 리턴 \n",
    "    getMin(data) : 최소값 리턴 \n",
    "    getTwoSum(num2, num1=1) : 두수 포함..두수 사이의 합을 구하는 함수, 두수 합을 리턴\n",
    "'''"
   ]
  },
  {
   "cell_type": "code",
   "execution_count": 105,
   "metadata": {},
   "outputs": [],
   "source": [
    "def getSum(data):\n",
    "    total=0\n",
    "    for i in data:\n",
    "        total += i\n",
    "    return total\n",
    "\n",
    "def getMean(data):\n",
    "    total=0\n",
    "    for i in data:\n",
    "        total += i\n",
    "    mean = total/len(data)\n",
    "    return mean\n",
    "\n",
    "def getMax(data):\n",
    "    maxNum=data[1]\n",
    "    for i in data[1:]:\n",
    "        if(i>maxNum):\n",
    "            maxNum=i\n",
    "    return maxNum\n",
    "        \n",
    "\n",
    "def getMin(data):\n",
    "    minNum=data[1]\n",
    "    for i in data[1:]:\n",
    "        if(i<minNum):\n",
    "            minNum=i\n",
    "    return minNum\n",
    "\n",
    "def getTwoSum(num2, num1=1): # num1 이 더큰값이 왔을 때\n",
    "    total=0\n",
    "    if num2<num1:\n",
    "        num1, num2 = num2, num1\n",
    "    for i in range(num1, num2+1):\n",
    "        total += i\n",
    "    return total\n",
    "\n"
   ]
  },
  {
   "cell_type": "code",
   "execution_count": 108,
   "metadata": {},
   "outputs": [
    {
     "ename": "TypeError",
     "evalue": "unsupported operand type(s) for +=: 'int' and 'list'",
     "output_type": "error",
     "traceback": [
      "\u001b[1;31m---------------------------------------------------------------------------\u001b[0m",
      "\u001b[1;31mTypeError\u001b[0m                                 Traceback (most recent call last)",
      "\u001b[1;32m<ipython-input-108-070c4a388fda>\u001b[0m in \u001b[0;36m<module>\u001b[1;34m\u001b[0m\n\u001b[0;32m      3\u001b[0m \u001b[1;31m# 실행하는 모듈과 호출하는 모듈이 서로 다를수 있다.\u001b[0m\u001b[1;33m\u001b[0m\u001b[1;33m\u001b[0m\u001b[1;33m\u001b[0m\u001b[0m\n\u001b[0;32m      4\u001b[0m \u001b[1;33m\u001b[0m\u001b[0m\n\u001b[1;32m----> 5\u001b[1;33m \u001b[0mprint\u001b[0m\u001b[1;33m(\u001b[0m\u001b[1;34m'총합은 '\u001b[0m\u001b[1;33m,\u001b[0m\u001b[0mgetSum\u001b[0m\u001b[1;33m(\u001b[0m\u001b[1;33m[\u001b[0m\u001b[1;36m1\u001b[0m\u001b[1;33m,\u001b[0m\u001b[1;36m2\u001b[0m\u001b[1;33m,\u001b[0m\u001b[1;36m3\u001b[0m\u001b[1;33m]\u001b[0m\u001b[1;33m)\u001b[0m\u001b[1;33m)\u001b[0m\u001b[1;33m\u001b[0m\u001b[1;33m\u001b[0m\u001b[0m\n\u001b[0m",
      "\u001b[1;32m<ipython-input-105-29c29cf9cf01>\u001b[0m in \u001b[0;36mgetSum\u001b[1;34m(*data)\u001b[0m\n\u001b[0;32m      2\u001b[0m     \u001b[0mtotal\u001b[0m\u001b[1;33m=\u001b[0m\u001b[1;36m0\u001b[0m\u001b[1;33m\u001b[0m\u001b[1;33m\u001b[0m\u001b[0m\n\u001b[0;32m      3\u001b[0m     \u001b[1;32mfor\u001b[0m \u001b[0mi\u001b[0m \u001b[1;32min\u001b[0m \u001b[0mdata\u001b[0m\u001b[1;33m:\u001b[0m\u001b[1;33m\u001b[0m\u001b[1;33m\u001b[0m\u001b[0m\n\u001b[1;32m----> 4\u001b[1;33m         \u001b[0mtotal\u001b[0m \u001b[1;33m+=\u001b[0m \u001b[0mi\u001b[0m\u001b[1;33m\u001b[0m\u001b[1;33m\u001b[0m\u001b[0m\n\u001b[0m\u001b[0;32m      5\u001b[0m     \u001b[1;32mreturn\u001b[0m \u001b[0mtotal\u001b[0m\u001b[1;33m\u001b[0m\u001b[1;33m\u001b[0m\u001b[0m\n\u001b[0;32m      6\u001b[0m \u001b[1;33m\u001b[0m\u001b[0m\n",
      "\u001b[1;31mTypeError\u001b[0m: unsupported operand type(s) for +=: 'int' and 'list'"
     ]
    }
   ],
   "source": [
    "# 값을 인풋으로 받아서 원하는 함수를 직접 호출 \n",
    "# 실행하는 부분과 호출하는 부분을 별도로 작성\n",
    "# 실행하는 모듈과 호출하는 모듈이 서로 다를수 있다. \n"
   ]
  },
  {
   "cell_type": "code",
   "execution_count": 106,
   "metadata": {},
   "outputs": [
    {
     "name": "stdout",
     "output_type": "stream",
     "text": [
      "값 입력1,2,3\n",
      "[1, 2, 3]\n"
     ]
    },
    {
     "ename": "TypeError",
     "evalue": "unsupported operand type(s) for +=: 'int' and 'list'",
     "output_type": "error",
     "traceback": [
      "\u001b[1;31m---------------------------------------------------------------------------\u001b[0m",
      "\u001b[1;31mTypeError\u001b[0m                                 Traceback (most recent call last)",
      "\u001b[1;32m<ipython-input-106-80405ded1747>\u001b[0m in \u001b[0;36m<module>\u001b[1;34m\u001b[0m\n\u001b[0;32m      6\u001b[0m \u001b[1;33m\u001b[0m\u001b[0m\n\u001b[0;32m      7\u001b[0m \u001b[1;31m# 2. 함수 호출\u001b[0m\u001b[1;33m\u001b[0m\u001b[1;33m\u001b[0m\u001b[1;33m\u001b[0m\u001b[0m\n\u001b[1;32m----> 8\u001b[1;33m \u001b[0mprint\u001b[0m\u001b[1;33m(\u001b[0m\u001b[1;34m'총합은 '\u001b[0m\u001b[1;33m,\u001b[0m\u001b[0mgetSum\u001b[0m\u001b[1;33m(\u001b[0m\u001b[0mintDataL\u001b[0m\u001b[1;33m)\u001b[0m\u001b[1;33m)\u001b[0m\u001b[1;33m\u001b[0m\u001b[1;33m\u001b[0m\u001b[0m\n\u001b[0m\u001b[0;32m      9\u001b[0m \u001b[0mprint\u001b[0m\u001b[1;33m(\u001b[0m\u001b[1;34m'최댓값 '\u001b[0m\u001b[1;33m,\u001b[0m\u001b[0mgetMax\u001b[0m\u001b[1;33m(\u001b[0m\u001b[0mintDataL\u001b[0m\u001b[1;33m)\u001b[0m\u001b[1;33m)\u001b[0m\u001b[1;33m\u001b[0m\u001b[1;33m\u001b[0m\u001b[0m\n\u001b[0;32m     10\u001b[0m \u001b[0mprint\u001b[0m\u001b[1;33m(\u001b[0m\u001b[1;34m'최솟값 '\u001b[0m\u001b[1;33m,\u001b[0m\u001b[0mgetMin\u001b[0m\u001b[1;33m(\u001b[0m\u001b[0mintDataL\u001b[0m\u001b[1;33m)\u001b[0m\u001b[1;33m)\u001b[0m\u001b[1;33m\u001b[0m\u001b[1;33m\u001b[0m\u001b[0m\n",
      "\u001b[1;32m<ipython-input-105-29c29cf9cf01>\u001b[0m in \u001b[0;36mgetSum\u001b[1;34m(*data)\u001b[0m\n\u001b[0;32m      2\u001b[0m     \u001b[0mtotal\u001b[0m\u001b[1;33m=\u001b[0m\u001b[1;36m0\u001b[0m\u001b[1;33m\u001b[0m\u001b[1;33m\u001b[0m\u001b[0m\n\u001b[0;32m      3\u001b[0m     \u001b[1;32mfor\u001b[0m \u001b[0mi\u001b[0m \u001b[1;32min\u001b[0m \u001b[0mdata\u001b[0m\u001b[1;33m:\u001b[0m\u001b[1;33m\u001b[0m\u001b[1;33m\u001b[0m\u001b[0m\n\u001b[1;32m----> 4\u001b[1;33m         \u001b[0mtotal\u001b[0m \u001b[1;33m+=\u001b[0m \u001b[0mi\u001b[0m\u001b[1;33m\u001b[0m\u001b[1;33m\u001b[0m\u001b[0m\n\u001b[0m\u001b[0;32m      5\u001b[0m     \u001b[1;32mreturn\u001b[0m \u001b[0mtotal\u001b[0m\u001b[1;33m\u001b[0m\u001b[1;33m\u001b[0m\u001b[0m\n\u001b[0;32m      6\u001b[0m \u001b[1;33m\u001b[0m\u001b[0m\n",
      "\u001b[1;31mTypeError\u001b[0m: unsupported operand type(s) for +=: 'int' and 'list'"
     ]
    }
   ],
   "source": [
    "# 값 입력부분\n",
    "dataL = input('값 입력').split(',')\n",
    "\n",
    "intDataL= [int(i) for i in dataL]\n",
    "print(intDataL)\n",
    "\n",
    "# 2. 함수 호출 \n",
    "print('총합은 ',getSum(intDataL))\n",
    "print('최댓값 ',getMax(intDataL))\n",
    "print('최솟값 ',getMin(intDataL))\n",
    "print('평균 ',getMean(intDataL))\n",
    "print('getToSum', getTwoSum(4,9))\n",
    "print('getToSum', getTwoSum(4))\n",
    "print('getToSum', getTwoSum(9,4))"
   ]
  },
  {
   "cell_type": "code",
   "execution_count": null,
   "metadata": {},
   "outputs": [],
   "source": []
  },
  {
   "cell_type": "code",
   "execution_count": null,
   "metadata": {},
   "outputs": [],
   "source": []
  },
  {
   "cell_type": "code",
   "execution_count": null,
   "metadata": {},
   "outputs": [],
   "source": []
  },
  {
   "cell_type": "code",
   "execution_count": null,
   "metadata": {},
   "outputs": [],
   "source": []
  },
  {
   "cell_type": "code",
   "execution_count": null,
   "metadata": {},
   "outputs": [],
   "source": []
  },
  {
   "cell_type": "code",
   "execution_count": null,
   "metadata": {},
   "outputs": [],
   "source": []
  },
  {
   "cell_type": "code",
   "execution_count": null,
   "metadata": {},
   "outputs": [],
   "source": []
  },
  {
   "cell_type": "code",
   "execution_count": null,
   "metadata": {},
   "outputs": [],
   "source": []
  },
  {
   "cell_type": "code",
   "execution_count": null,
   "metadata": {},
   "outputs": [],
   "source": []
  },
  {
   "cell_type": "code",
   "execution_count": null,
   "metadata": {},
   "outputs": [],
   "source": []
  },
  {
   "cell_type": "code",
   "execution_count": null,
   "metadata": {},
   "outputs": [],
   "source": []
  },
  {
   "cell_type": "code",
   "execution_count": null,
   "metadata": {},
   "outputs": [],
   "source": []
  },
  {
   "cell_type": "code",
   "execution_count": null,
   "metadata": {},
   "outputs": [],
   "source": []
  },
  {
   "cell_type": "code",
   "execution_count": null,
   "metadata": {},
   "outputs": [],
   "source": []
  },
  {
   "cell_type": "code",
   "execution_count": null,
   "metadata": {},
   "outputs": [],
   "source": []
  }
 ],
 "metadata": {
  "kernelspec": {
   "display_name": "Python 3",
   "language": "python",
   "name": "python3"
  },
  "language_info": {
   "codemirror_mode": {
    "name": "ipython",
    "version": 3
   },
   "file_extension": ".py",
   "mimetype": "text/x-python",
   "name": "python",
   "nbconvert_exporter": "python",
   "pygments_lexer": "ipython3",
   "version": "3.7.6"
  }
 },
 "nbformat": 4,
 "nbformat_minor": 4
}
