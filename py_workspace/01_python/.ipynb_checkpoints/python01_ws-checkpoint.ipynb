{
 "cells": [
  {
   "cell_type": "markdown",
   "metadata": {},
   "source": [
    "# 1. 자료형\n",
    "## Background\n",
    "- 데이터 타입\n",
    "- 제어문\n",
    "\n",
    "## Problem\n",
    "### 1. myList = `[[1,2,3],[4,5,6],[7,8]]`에 9를 추가하여 `[[1,2,3],[4,5,6],[7,8,9]]`가 되도록 구현해보세요\n",
    "- append와 insert 두가지 방법으로 풀어보세요"
   ]
  },
  {
   "cell_type": "code",
   "execution_count": 1,
   "metadata": {},
   "outputs": [
    {
     "data": {
      "text/plain": [
       "[[1, 2, 3], [4, 5, 6], [7, 8, 9]]"
      ]
     },
     "execution_count": 1,
     "metadata": {},
     "output_type": "execute_result"
    }
   ],
   "source": [
    " myList = [[1,2,3],[4,5,6],[7,8]]\n",
    "# myList[2].append(9)\n",
    "myList[2].insert(len(myList),9)\n",
    "myList"
   ]
  },
  {
   "cell_type": "markdown",
   "metadata": {},
   "source": [
    "### 2. Dictionary를 활용해서 학생들의 이름과 점수를 key와 value로 입력하고 추가, 삭제, 업데이트를 진행해보세요.\n",
    "1. score라는 dictionary에 하준 90점, 서윤 86점, 지아 80점을 입력하세요.\n",
    "2. score에 수지 95점을 추가하세요.\n",
    "3. score에서 지아를 삭제하세요.\n",
    "4. score에 기창 98점, 남철 60점, 기성 75점을 <u>한번에</u> 추가해보세요"
   ]
  },
  {
   "cell_type": "code",
   "execution_count": 7,
   "metadata": {},
   "outputs": [
    {
     "data": {
      "text/plain": [
       "{'하준': 90, '서윤': 86, '수지': 95, '기창': 98, '남철': '60', '기성': 75}"
      ]
     },
     "execution_count": 7,
     "metadata": {},
     "output_type": "execute_result"
    }
   ],
   "source": [
    "score = {'하준':90,'서윤':86,'지아':80}\n",
    "score.update({'수지':95})\n",
    "del score['지아']\n",
    "\n",
    "score.update({'기창':98,'남철':'60','기성':75})\n",
    "score"
   ]
  },
  {
   "cell_type": "markdown",
   "metadata": {},
   "source": [
    "### 3. 다음 리스트에서 중복된 항목을 없애보세요.\n",
    "```python\n",
    "myList = [1,3,2,3,7,6,8,4,10,5,3,8,9]```"
   ]
  },
  {
   "cell_type": "code",
   "execution_count": 9,
   "metadata": {},
   "outputs": [
    {
     "data": {
      "text/plain": [
       "[1, 2, 3, 4, 5, 6, 7, 8, 9, 10]"
      ]
     },
     "execution_count": 9,
     "metadata": {},
     "output_type": "execute_result"
    }
   ],
   "source": [
    "myList = list(set([1,3,2,3,7,6,8,4,10,5,3,8,9]))\n",
    "myList"
   ]
  },
  {
   "cell_type": "markdown",
   "metadata": {},
   "source": [
    "### 4. 다음의 세 문장에서 중복으로 사용된 알파벳만 출력해보세요.(대소문자 구분)\n",
    "- \"Hello python\"\n",
    "- \"Funny programming\"\n",
    "- \"Happy newyear\""
   ]
  },
  {
   "cell_type": "code",
   "execution_count": 30,
   "metadata": {},
   "outputs": [
    {
     "name": "stdout",
     "output_type": "stream",
     "text": [
      "['n', 'o', 'y', 'p', ' ']\n"
     ]
    }
   ],
   "source": [
    "st1 = 'Hello python'\n",
    "st2 = 'Funny programming'\n",
    "st3 = 'Happy newyear'\n",
    "temp =list()\n",
    "\n",
    "\n",
    "for i in range(len(st1)):\n",
    "    for j in range(len(st2)):\n",
    "        if(st1[i]==st2[j]):\n",
    "            temp.append(st1[i])\n",
    "for i in range(len(st3)):\n",
    "    for j in range(len(temp)):\n",
    "        if(st3[i]==temp[j]):\n",
    "            temp.append(temp[i])\n",
    "temp = list(set(temp))\n",
    "\n",
    "print(temp)\n"
   ]
  },
  {
   "cell_type": "markdown",
   "metadata": {},
   "source": [
    "### 5. 다음과 같은 규칙을 가진 숫자의 합을 for문을 사용해서 구현하세요.\n",
    "- 1 + (1 + 3) + (1 + 3 + 5) + (1 + 3 + 5 + 7) + ... + (1 + 3 + ... + 19)"
   ]
  },
  {
   "cell_type": "code",
   "execution_count": 14,
   "metadata": {},
   "outputs": [
    {
     "name": "stdout",
     "output_type": "stream",
     "text": [
      "num은 1 count는 1\n",
      "num은 1 count는 2\n",
      "num은 3 count는 3\n",
      "num은 1 count는 4\n",
      "num은 3 count는 5\n",
      "num은 5 count는 6\n",
      "num은 1 count는 7\n",
      "num은 3 count는 8\n",
      "num은 5 count는 9\n",
      "num은 7 count는 10\n",
      "num은 1 count는 11\n",
      "num은 3 count는 12\n",
      "num은 5 count는 13\n",
      "num은 7 count는 14\n",
      "num은 9 count는 15\n",
      "num은 1 count는 16\n",
      "num은 3 count는 17\n",
      "num은 5 count는 18\n",
      "num은 7 count는 19\n",
      "num은 9 count는 20\n",
      "num은 11 count는 21\n",
      "num은 1 count는 22\n",
      "num은 3 count는 23\n",
      "num은 5 count는 24\n",
      "num은 7 count는 25\n",
      "num은 9 count는 26\n",
      "num은 11 count는 27\n",
      "num은 13 count는 28\n",
      "num은 1 count는 29\n",
      "num은 3 count는 30\n",
      "num은 5 count는 31\n",
      "num은 7 count는 32\n",
      "num은 9 count는 33\n",
      "num은 11 count는 34\n",
      "num은 13 count는 35\n",
      "num은 15 count는 36\n",
      "num은 1 count는 37\n",
      "num은 3 count는 38\n",
      "num은 5 count는 39\n",
      "num은 7 count는 40\n",
      "num은 9 count는 41\n",
      "num은 11 count는 42\n",
      "num은 13 count는 43\n",
      "num은 15 count는 44\n",
      "num은 17 count는 45\n",
      "num은 1 count는 46\n",
      "num은 3 count는 47\n",
      "num은 5 count는 48\n",
      "num은 7 count는 49\n",
      "num은 9 count는 50\n",
      "num은 11 count는 51\n",
      "num은 13 count는 52\n",
      "num은 15 count는 53\n",
      "num은 17 count는 54\n",
      "num은 19 count는 55\n",
      "385\n"
     ]
    }
   ],
   "source": [
    "total=0\n",
    "count =1\n",
    "for i in range(10):\n",
    "    num=1\n",
    "#     print('total==',total)\n",
    "    for j in range(i+1):\n",
    "        print('num은',num,'count는',count)\n",
    "        total = total + num\n",
    "        num = num+2\n",
    "        count= count+1\n",
    "print(total)"
   ]
  }
 ],
 "metadata": {
  "kernelspec": {
   "display_name": "Python 3",
   "language": "python",
   "name": "python3"
  },
  "language_info": {
   "codemirror_mode": {
    "name": "ipython",
    "version": 3
   },
   "file_extension": ".py",
   "mimetype": "text/x-python",
   "name": "python",
   "nbconvert_exporter": "python",
   "pygments_lexer": "ipython3",
   "version": "3.7.6"
  }
 },
 "nbformat": 4,
 "nbformat_minor": 2
}
