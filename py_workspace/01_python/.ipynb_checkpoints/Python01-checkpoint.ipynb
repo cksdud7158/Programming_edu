{
 "cells": [
  {
   "cell_type": "markdown",
   "metadata": {},
   "source": [
    "## 변수와 데이타 타입 \n",
    "### 파이썬에서의 데이타 타입들"
   ]
  },
  {
   "cell_type": "code",
   "execution_count": null,
   "metadata": {},
   "outputs": [],
   "source": [
    "''' \n",
    "    파이썬에서의 데이터 타입들 \n",
    "    int - 정수 \n",
    "    float - 실수 \n",
    "    bool - False, True\n",
    "    str - 문자열 \n",
    "    list - 순서가 있는 값들의 집합\n",
    "    tuple - 순서가 있고 변경 불가 \n",
    "    set - 순서는 없고 중복이 안되는 값들의 집합\n",
    "    dic - 키와 값으로 데이타를 저장하는 타입 \n",
    "\n",
    "'''"
   ]
  },
  {
   "cell_type": "code",
   "execution_count": 2,
   "metadata": {},
   "outputs": [
    {
     "name": "stdout",
     "output_type": "stream",
     "text": [
      "Hello Python\n"
     ]
    },
    {
     "data": {
      "text/plain": [
       "'Hello Python'"
      ]
     },
     "execution_count": 2,
     "metadata": {},
     "output_type": "execute_result"
    }
   ],
   "source": [
    "str=\"Hello Python\"\n",
    "print(str)\n",
    "str"
   ]
  },
  {
   "cell_type": "code",
   "execution_count": 6,
   "metadata": {},
   "outputs": [
    {
     "name": "stdout",
     "output_type": "stream",
     "text": [
      "3\n",
      "3.5\n",
      "Hello\n",
      "**************************************************\n",
      "<class 'int'>\n",
      "<class 'float'>\n",
      "<class 'str'>\n"
     ]
    }
   ],
   "source": [
    "a=3\n",
    "b=3.5\n",
    "c = 'Hello'\n",
    "print(a)\n",
    "print(b)\n",
    "print(c)\n",
    "print('*'*50)\n",
    "print(type(a))\n",
    "print(type(b))\n",
    "print(type(c))"
   ]
  },
  {
   "cell_type": "code",
   "execution_count": 3,
   "metadata": {},
   "outputs": [
    {
     "name": "stdout",
     "output_type": "stream",
     "text": [
      "당신의 나이를 입력하세요aaa\n",
      "나이 aaa\n",
      "<class 'str'>\n"
     ]
    }
   ],
   "source": [
    "'''\n",
    "    input() 을 통해서 값을 입력해보자 \n",
    "'''\n",
    "\n",
    "data =input('당신의 나이를 입력하세요')\n",
    "print('나이', data)\n",
    "print(type(data))"
   ]
  },
  {
   "cell_type": "code",
   "execution_count": null,
   "metadata": {},
   "outputs": [],
   "source": [
    "d = 3\n",
    "e= 3.0\n",
    "print(type(d))\n",
    "print(type(e))\n",
    "print(d==e)"
   ]
  },
  {
   "cell_type": "markdown",
   "metadata": {},
   "source": [
    "## 연산자와 포메팅"
   ]
  },
  {
   "cell_type": "code",
   "execution_count": 10,
   "metadata": {},
   "outputs": [
    {
     "name": "stdout",
     "output_type": "stream",
     "text": [
      "1.6666666666666667\n",
      "1\n",
      "2\n"
     ]
    }
   ],
   "source": [
    "num1= 5\n",
    "num2 = 3\n",
    "print(num1/num2) # 결과가 float로 반환\n",
    "print(num1//num2) # num1을 num2로 나눈 몫을 구함..int\n",
    "remain = num1 % num2\n",
    "print(remain)\n"
   ]
  },
  {
   "cell_type": "code",
   "execution_count": 11,
   "metadata": {},
   "outputs": [
    {
     "data": {
      "text/plain": [
       "['__abs__',\n",
       " '__add__',\n",
       " '__and__',\n",
       " '__bool__',\n",
       " '__ceil__',\n",
       " '__class__',\n",
       " '__delattr__',\n",
       " '__dir__',\n",
       " '__divmod__',\n",
       " '__doc__',\n",
       " '__eq__',\n",
       " '__float__',\n",
       " '__floor__',\n",
       " '__floordiv__',\n",
       " '__format__',\n",
       " '__ge__',\n",
       " '__getattribute__',\n",
       " '__getnewargs__',\n",
       " '__gt__',\n",
       " '__hash__',\n",
       " '__index__',\n",
       " '__init__',\n",
       " '__init_subclass__',\n",
       " '__int__',\n",
       " '__invert__',\n",
       " '__le__',\n",
       " '__lshift__',\n",
       " '__lt__',\n",
       " '__mod__',\n",
       " '__mul__',\n",
       " '__ne__',\n",
       " '__neg__',\n",
       " '__new__',\n",
       " '__or__',\n",
       " '__pos__',\n",
       " '__pow__',\n",
       " '__radd__',\n",
       " '__rand__',\n",
       " '__rdivmod__',\n",
       " '__reduce__',\n",
       " '__reduce_ex__',\n",
       " '__repr__',\n",
       " '__rfloordiv__',\n",
       " '__rlshift__',\n",
       " '__rmod__',\n",
       " '__rmul__',\n",
       " '__ror__',\n",
       " '__round__',\n",
       " '__rpow__',\n",
       " '__rrshift__',\n",
       " '__rshift__',\n",
       " '__rsub__',\n",
       " '__rtruediv__',\n",
       " '__rxor__',\n",
       " '__setattr__',\n",
       " '__sizeof__',\n",
       " '__str__',\n",
       " '__sub__',\n",
       " '__subclasshook__',\n",
       " '__truediv__',\n",
       " '__trunc__',\n",
       " '__xor__',\n",
       " 'bit_length',\n",
       " 'conjugate',\n",
       " 'denominator',\n",
       " 'from_bytes',\n",
       " 'imag',\n",
       " 'numerator',\n",
       " 'real',\n",
       " 'to_bytes']"
      ]
     },
     "execution_count": 11,
     "metadata": {},
     "output_type": "execute_result"
    }
   ],
   "source": [
    "'''\n",
    "    파이썬의 모든 변수는 객체이다. \n",
    "    그렇기 때문에 당연히 속성과 메소드가 있다. \n",
    "    이중에서 타입을 변경하는 함수.. \n",
    "    \n",
    "'''\n",
    "\n",
    "dir(num1)"
   ]
  },
  {
   "cell_type": "code",
   "execution_count": 18,
   "metadata": {},
   "outputs": [
    {
     "name": "stdout",
     "output_type": "stream",
     "text": [
      "1\n",
      "0\n",
      "3\n"
     ]
    },
    {
     "ename": "NameError",
     "evalue": "name 'a' is not defined",
     "output_type": "error",
     "traceback": [
      "\u001b[1;31m---------------------------------------------------------------------------\u001b[0m",
      "\u001b[1;31mNameError\u001b[0m                                 Traceback (most recent call last)",
      "\u001b[1;32m<ipython-input-18-05220a206947>\u001b[0m in \u001b[0;36m<module>\u001b[1;34m\u001b[0m\n\u001b[0;32m     11\u001b[0m \u001b[0mprint\u001b[0m\u001b[1;33m(\u001b[0m\u001b[0mint\u001b[0m\u001b[1;33m(\u001b[0m\u001b[1;32mFalse\u001b[0m\u001b[1;33m)\u001b[0m\u001b[1;33m)\u001b[0m\u001b[1;33m\u001b[0m\u001b[1;33m\u001b[0m\u001b[0m\n\u001b[0;32m     12\u001b[0m \u001b[0mprint\u001b[0m\u001b[1;33m(\u001b[0m\u001b[0mint\u001b[0m\u001b[1;33m(\u001b[0m\u001b[0me\u001b[0m\u001b[1;33m)\u001b[0m\u001b[1;33m)\u001b[0m\u001b[1;33m\u001b[0m\u001b[1;33m\u001b[0m\u001b[0m\n\u001b[1;32m---> 13\u001b[1;33m \u001b[0mfloat\u001b[0m\u001b[1;33m(\u001b[0m\u001b[0ma\u001b[0m\u001b[1;33m)\u001b[0m\u001b[1;33m\u001b[0m\u001b[1;33m\u001b[0m\u001b[0m\n\u001b[0m\u001b[0;32m     14\u001b[0m \u001b[0mprint\u001b[0m\u001b[1;33m(\u001b[0m\u001b[0mround\u001b[0m\u001b[1;33m(\u001b[0m\u001b[1;36m44.78\u001b[0m\u001b[1;33m)\u001b[0m\u001b[1;33m)\u001b[0m\u001b[1;33m\u001b[0m\u001b[1;33m\u001b[0m\u001b[0m\n\u001b[0;32m     15\u001b[0m \u001b[0mprint\u001b[0m\u001b[1;33m(\u001b[0m\u001b[0mint\u001b[0m\u001b[1;33m(\u001b[0m\u001b[1;34m'111'\u001b[0m\u001b[1;33m)\u001b[0m\u001b[1;33m)\u001b[0m\u001b[1;33m\u001b[0m\u001b[1;33m\u001b[0m\u001b[0m\n",
      "\u001b[1;31mNameError\u001b[0m: name 'a' is not defined"
     ]
    }
   ],
   "source": [
    "# 형변환 함수\n",
    "'''\n",
    "    int()\n",
    "    float()\n",
    "    str()\n",
    "    list()\n",
    "    tuple()\n",
    "'''\n",
    "\n",
    "print(int(True))\n",
    "print(int(False))\n",
    "print(int(e))\n",
    "float(a) ##\n",
    "print(round(44.78))\n",
    "print(int('111'))"
   ]
  },
  {
   "cell_type": "code",
   "execution_count": 19,
   "metadata": {},
   "outputs": [
    {
     "name": "stdout",
     "output_type": "stream",
     "text": [
      "James 의 나이는 55 살 입니다.\n"
     ]
    }
   ],
   "source": [
    "name ='James'\n",
    "age=55\n",
    "print(name, '의 나이는', age,'살 입니다.')"
   ]
  },
  {
   "cell_type": "code",
   "execution_count": 20,
   "metadata": {},
   "outputs": [
    {
     "name": "stdout",
     "output_type": "stream",
     "text": [
      "정수 입력45\n",
      "<class 'str'>\n",
      "<class 'int'>\n",
      "45\n"
     ]
    }
   ],
   "source": [
    "num3 = input('정수 입력')\n",
    "print(type(num3)) #str\n",
    "num4 = int(num3)\n",
    "print(type(num4)) #int\n",
    "print(num4)"
   ]
  },
  {
   "cell_type": "markdown",
   "metadata": {},
   "source": [
    "## 문제1."
   ]
  },
  {
   "cell_type": "code",
   "execution_count": null,
   "metadata": {},
   "outputs": [],
   "source": [
    "# 키보드로부터 초를 입력 받아 다름과 같이 출력 ex) 3700\n",
    "# 3700초는 1시간 1분 40초 입니다. "
   ]
  },
  {
   "cell_type": "code",
   "execution_count": 31,
   "metadata": {},
   "outputs": [
    {
     "name": "stdout",
     "output_type": "stream",
     "text": [
      "정수를 입력해주세요3700\n",
      "3700 초는 1 시간 1 시간 40 초 입니다.\n"
     ]
    }
   ],
   "source": [
    "time = input('정수를 입력해주세요')\n",
    "time2= int(time)\n",
    "hour = time2//3600\n",
    "minute = (time2-hour*3600)//60  #  time2%3600 //60\n",
    "seconds = (time2-hour*3600)%60 # time2 % 60\n",
    "print(time,'초는',hour,'시간', minute,'시간',seconds,'초 입니다.')"
   ]
  },
  {
   "cell_type": "code",
   "execution_count": 33,
   "metadata": {},
   "outputs": [
    {
     "name": "stdout",
     "output_type": "stream",
     "text": [
      "True\n",
      "False\n",
      "2218871751280\n",
      "2218871752304\n"
     ]
    }
   ],
   "source": [
    "'''\n",
    "    Immutable 타입으로는\n",
    "    Tuple, 숫자( int, float) , str\n",
    "'''\n",
    "a= 257\n",
    "b= 257\n",
    "print(a==b)\n",
    "print(a is b)\n",
    "\n",
    "print(id(a))\n",
    "print(id(b))"
   ]
  },
  {
   "cell_type": "code",
   "execution_count": 40,
   "metadata": {},
   "outputs": [
    {
     "name": "stdout",
     "output_type": "stream",
     "text": [
      "True\n",
      "True\n",
      "140736771701360\n",
      "140736771701360\n"
     ]
    }
   ],
   "source": [
    "'''\n",
    "    -5 ~ 256 -> 이 안에 들어가 있는 값은 가장 많이 쓰는 값, 특히 데이터 분석,머신에서 \n",
    "    따라서 메모리르 효율적으로 활용하기 위해서 이 범위에 있는 값은 한번 객체를 만들고나서 는 다시 만들지 않는다,\n",
    "'''\n",
    "a= 200\n",
    "b= 200\n",
    "\n",
    "print(a==b)\n",
    "print(a is b)\n",
    "\n",
    "print(id(a))\n",
    "print(id(b))\n"
   ]
  },
  {
   "cell_type": "code",
   "execution_count": 44,
   "metadata": {},
   "outputs": [
    {
     "name": "stdout",
     "output_type": "stream",
     "text": [
      "hello\n",
      "hello\n",
      "\n",
      "        this is myStr3 \n",
      "                        helo\n",
      "                hi \n",
      "        nice meet you \n",
      "\n"
     ]
    }
   ],
   "source": [
    "# 문자열 ...literal 작은 따옴표 ('')또는 큰 따옴표 (\"\") 로 둘러싸서 만들 수 있다. \n",
    "# 문자열을 여러줄로 만들어줄 경우 그떄도 사용 \n",
    "myStr1= 'hello'\n",
    "myStr2= \"hello\"\n",
    "myStr3= '''\n",
    "        this is myStr3 \n",
    "                        helo\n",
    "                hi \n",
    "        nice meet you \n",
    "'''\n",
    "print(myStr1)\n",
    "print(myStr2)\n",
    "print(myStr3)"
   ]
  },
  {
   "cell_type": "code",
   "execution_count": 47,
   "metadata": {},
   "outputs": [
    {
     "name": "stdout",
     "output_type": "stream",
     "text": [
      "손흥민의 나이는 28살, 이번 경기 평점은 9.57 입니다.\n",
      "오늘은 2020 년 7 월 6 일 입니다. \n"
     ]
    }
   ],
   "source": [
    "# formating\n",
    "# 1. \n",
    "name = '손흥민'\n",
    "age =28\n",
    "grade = 9.567\n",
    "print('%s의 나이는 %d살, 이번 경기 평점은 %0.2f 입니다.' %(name, age, grade))\n",
    "\n",
    "#2. \n",
    "import time\n",
    "now = time.localtime()\n",
    "print('오늘은 %d 년 %d 월 %d 일 입니다. ' %(now.tm_year, now.tm_mon, now.tm_mday))\n"
   ]
  },
  {
   "cell_type": "code",
   "execution_count": null,
   "metadata": {},
   "outputs": [],
   "source": []
  },
  {
   "cell_type": "code",
   "execution_count": null,
   "metadata": {},
   "outputs": [],
   "source": []
  },
  {
   "cell_type": "code",
   "execution_count": null,
   "metadata": {},
   "outputs": [],
   "source": []
  },
  {
   "cell_type": "code",
   "execution_count": null,
   "metadata": {},
   "outputs": [],
   "source": []
  },
  {
   "cell_type": "code",
   "execution_count": null,
   "metadata": {},
   "outputs": [],
   "source": []
  },
  {
   "cell_type": "code",
   "execution_count": null,
   "metadata": {},
   "outputs": [],
   "source": []
  }
 ],
 "metadata": {
  "kernelspec": {
   "display_name": "Python 3",
   "language": "python",
   "name": "python3"
  },
  "language_info": {
   "codemirror_mode": {
    "name": "ipython",
    "version": 3
   },
   "file_extension": ".py",
   "mimetype": "text/x-python",
   "name": "python",
   "nbconvert_exporter": "python",
   "pygments_lexer": "ipython3",
   "version": "3.7.6"
  }
 },
 "nbformat": 4,
 "nbformat_minor": 4
}
