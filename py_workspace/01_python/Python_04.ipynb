{
 "cells": [
  {
   "cell_type": "markdown",
   "metadata": {},
   "source": [
    "### 조건문, 제어문(if, elif, else)"
   ]
  },
  {
   "cell_type": "code",
   "execution_count": null,
   "metadata": {},
   "outputs": [],
   "source": [
    "a=3\n",
    "if a%2==0:\n",
    "    print('event')\n",
    "else:\n",
    "    if(a==1):\n",
    "        print('a is 1')\n",
    "    elif(a==3):\n",
    "        print('a is 3')"
   ]
  },
  {
   "cell_type": "markdown",
   "metadata": {},
   "source": [
    "### 문제 1 \n",
    "### 키보드로 입력시 성적 출력"
   ]
  },
  {
   "cell_type": "code",
   "execution_count": null,
   "metadata": {},
   "outputs": [],
   "source": [
    "score = int(input(\"성적을 입력해주세요 \"))\n",
    "\n",
    "if score>=90:\n",
    "    print(\"A\")\n",
    "elif score>=80 and score<90:\n",
    "    print(\"B\")\n",
    "elif score>=70 and score<80:\n",
    "    print(\"c\")\n",
    "else:\n",
    "    print('Try again')\n",
    "\n"
   ]
  },
  {
   "cell_type": "markdown",
   "metadata": {},
   "source": [
    "## 반복문(for, while) -- range() 함께"
   ]
  },
  {
   "cell_type": "code",
   "execution_count": null,
   "metadata": {},
   "outputs": [],
   "source": [
    "movieL = ['신비한 동물사전', '조커', '기생충', '타임패러독스']\n",
    "\n",
    "# 1. \n",
    "for m in movieL:\n",
    "    print(m)\n",
    "    \n",
    "print('*'*30)\n",
    "\n",
    "#2. range 사용\n",
    "for idx in range(len(movieL)):\n",
    "    print(movieL[idx])\n",
    "    "
   ]
  },
  {
   "cell_type": "markdown",
   "metadata": {},
   "source": [
    "## 문제 2\n",
    "### 키보드로 값 입력받고 입력한 값의 전체합을 구하세요\n",
    "#### 입력한 값들은 3,4,5,6 으로 하자 "
   ]
  },
  {
   "cell_type": "code",
   "execution_count": null,
   "metadata": {},
   "outputs": [],
   "source": [
    "data = input('키보드로 값 4개 3,4,5,6').split(',')\n",
    "total = 0\n",
    "\n",
    "#1\n",
    "# for i in data:\n",
    "#     total += int(i)\n",
    "# print(total)\n",
    "\n",
    "#2\n",
    "# for idx in range(len(data)):\n",
    "#     total = total+int(data[idx])\n",
    "# print(total)\n",
    "\n",
    "#3\n",
    "intData = [int(i) for i in data]\n",
    "# print(type(intData))\n",
    "print(sum(intData))\n"
   ]
  },
  {
   "cell_type": "markdown",
   "metadata": {},
   "source": [
    "## 문제 3."
   ]
  },
  {
   "cell_type": "code",
   "execution_count": null,
   "metadata": {},
   "outputs": [],
   "source": [
    "'''\n",
    "    numlist = [5,10,11,3,2,100]\n",
    "    numlist 데이타를 이용해서 다음과 같이 출력하세요 \n",
    "    ['홀','짝','홀','홀','짝','짝']\n",
    "'''"
   ]
  },
  {
   "cell_type": "code",
   "execution_count": null,
   "metadata": {},
   "outputs": [],
   "source": [
    "numlist = [5,10,11,3,2,100]\n",
    "numlist2 = list()\n",
    "for i in numlist:\n",
    "    if(i%2==0):\n",
    "        numlist2.append('짝')\n",
    "    else:\n",
    "        numlist2.append('홀')\n",
    "\n",
    "print(numlist2)"
   ]
  },
  {
   "cell_type": "code",
   "execution_count": null,
   "metadata": {},
   "outputs": [],
   "source": [
    "#2\n",
    "\n",
    "resultList = ['짝' if i%2==0 else '홀' for i in numlist]\n",
    "print(resultList)"
   ]
  },
  {
   "cell_type": "markdown",
   "metadata": {},
   "source": [
    "## 이중 for 문 사용하기 이중 for문\n"
   ]
  },
  {
   "cell_type": "code",
   "execution_count": null,
   "metadata": {},
   "outputs": [],
   "source": [
    "for i in range(0,5):\n",
    "    print(i, ' ', end ='')"
   ]
  },
  {
   "cell_type": "code",
   "execution_count": null,
   "metadata": {},
   "outputs": [],
   "source": [
    "matrix= [[1,2,3],[4,5,6],[7,8,9,10]]\n",
    "len(matrix)\n",
    "matrix"
   ]
  },
  {
   "cell_type": "code",
   "execution_count": null,
   "metadata": {},
   "outputs": [],
   "source": [
    "'''\n",
    "    문제 1)\n",
    "    [1, 2, 3]\n",
    "    [4, 5, 6]\n",
    "    [7, 8, 9, 10] 이 출력되도록\n",
    "'''"
   ]
  },
  {
   "cell_type": "code",
   "execution_count": null,
   "metadata": {},
   "outputs": [],
   "source": [
    "# 1.\n",
    "# for i in matrix:\n",
    "#     print(i)\n",
    "    \n",
    "# 2. len() 사용해서..\n",
    "# for i in range(len(matrix)):\n",
    "#     print(matrix[i])\n",
    "\n",
    "#3.\n",
    "# for i in range(len(matrix)):\n",
    "#     for j in range(len(matrix[i])):\n",
    "#         print(matrix[i][j], ' ',end='')\n",
    "#     print()\n",
    "    \n",
    "#4.\n",
    "for row in matrix:\n",
    "    for j in row:\n",
    "        print(j,'', end='')\n",
    "    print()"
   ]
  },
  {
   "cell_type": "code",
   "execution_count": 3,
   "metadata": {},
   "outputs": [
    {
     "name": "stdout",
     "output_type": "stream",
     "text": [
      "101까지의 총합 :: 5050\n",
      "##################################################\n",
      "101까지의 총합 :: 5050\n"
     ]
    }
   ],
   "source": [
    "'''\n",
    "    1~100까지의 합을 구한다. \n",
    "    조건을 2가지 둔다.\n",
    "    1) while i<101 2) while true\n",
    "    \n",
    "'''\n",
    "#1)\n",
    "i=1\n",
    "total1 =0\n",
    "while i<101:\n",
    "    total1 += i\n",
    "    i = i+1\n",
    "print('101까지의 총합 ::',total1)\n",
    "print('#'*50)\n",
    "\n",
    "#2)\n",
    "j=1\n",
    "total2=0\n",
    "while True:\n",
    "    if j==101:\n",
    "        break\n",
    "    total2 += j\n",
    "    j = j+1\n",
    "print('101까지의 총합 ::',total2)"
   ]
  },
  {
   "cell_type": "code",
   "execution_count": 13,
   "metadata": {},
   "outputs": [
    {
     "name": "stdout",
     "output_type": "stream",
     "text": [
      "0\n",
      "1\n",
      "3\n",
      "pass...loop 4\n",
      "4\n",
      "5\n",
      "break...loop 6\n"
     ]
    }
   ],
   "source": [
    "# continue, break, pass 키워드 \n",
    "for i in range(10):\n",
    "    if i ==2:\n",
    "        print('continue...loop...', i)\n",
    "        continue\n",
    "    if i==6:\n",
    "        print('break...loop', i)\n",
    "        break\n",
    "    if i==4 : \n",
    "        print('pass...loop', i)\n",
    "        pass\n",
    "    print(i)"
   ]
  },
  {
   "cell_type": "markdown",
   "metadata": {},
   "source": [
    "## 문제 Number Guess..번호 맞추기 게임"
   ]
  },
  {
   "cell_type": "code",
   "execution_count": null,
   "metadata": {},
   "outputs": [],
   "source": [
    "'''\n",
    "    랜덤한 숫자 하나를 지정 random.randrange() .... 44 \n",
    "    키보드로 특정한 숫자를 입력 받아서 ...int(input()) ...17\n",
    "    \n",
    "    - 입력된 값이 더 작으면 작습니다. print\n",
    "    - 입력된 값이 더 크면 큽니다. print\n",
    "    - 맞추면 정답 \n",
    "    - 총 3번만에 정답을 맞췄습니다. \n",
    "'''"
   ]
  },
  {
   "cell_type": "code",
   "execution_count": 1,
   "metadata": {},
   "outputs": [
    {
     "name": "stdout",
     "output_type": "stream",
     "text": [
      "5\n"
     ]
    }
   ],
   "source": [
    "import random\n",
    "\n",
    "com = random.randrange(1,21) # 1~50까지의 임의의 정수가 리턴\n",
    "print(com)"
   ]
  },
  {
   "cell_type": "code",
   "execution_count": 2,
   "metadata": {},
   "outputs": [
    {
     "name": "stdout",
     "output_type": "stream",
     "text": [
      "1부터 20 사이의 숫자 하나를 입력하세요10\n",
      "숫자가 너무 큽니다.\n",
      "1부터 20 사이의 숫자 하나를 입력하세요4\n",
      "1부터 20 사이의 숫자 하나를 입력하세요5\n",
      "정답입니다.\n",
      "총 3 만에 정답을 맞췄습니다.\n"
     ]
    }
   ],
   "source": [
    "count=0\n",
    "\n",
    "while True:\n",
    "    num =int(input('1부터 20 사이의 숫자 하나를 입력하세요'))\n",
    "    count=count+1\n",
    "    if num>com:\n",
    "        print('숫자가 너무 큽니다.')\n",
    "        continue\n",
    "    elif num>com:\n",
    "        print('숫자가 너무 작습니다.')\n",
    "        count=count+1\n",
    "        continue\n",
    "    elif num==com:\n",
    "        print('정답입니다.')\n",
    "        print('총 %d 만에 정답을 맞췄습니다.' %count)\n",
    "        break"
   ]
  },
  {
   "cell_type": "code",
   "execution_count": null,
   "metadata": {},
   "outputs": [],
   "source": []
  },
  {
   "cell_type": "code",
   "execution_count": null,
   "metadata": {},
   "outputs": [],
   "source": []
  },
  {
   "cell_type": "code",
   "execution_count": null,
   "metadata": {},
   "outputs": [],
   "source": []
  },
  {
   "cell_type": "code",
   "execution_count": null,
   "metadata": {},
   "outputs": [],
   "source": []
  },
  {
   "cell_type": "code",
   "execution_count": null,
   "metadata": {},
   "outputs": [],
   "source": []
  },
  {
   "cell_type": "code",
   "execution_count": null,
   "metadata": {},
   "outputs": [],
   "source": []
  },
  {
   "cell_type": "code",
   "execution_count": null,
   "metadata": {},
   "outputs": [],
   "source": []
  },
  {
   "cell_type": "code",
   "execution_count": null,
   "metadata": {},
   "outputs": [],
   "source": []
  },
  {
   "cell_type": "code",
   "execution_count": null,
   "metadata": {},
   "outputs": [],
   "source": []
  },
  {
   "cell_type": "code",
   "execution_count": null,
   "metadata": {},
   "outputs": [],
   "source": []
  },
  {
   "cell_type": "code",
   "execution_count": null,
   "metadata": {},
   "outputs": [],
   "source": []
  },
  {
   "cell_type": "code",
   "execution_count": null,
   "metadata": {},
   "outputs": [],
   "source": []
  },
  {
   "cell_type": "code",
   "execution_count": null,
   "metadata": {},
   "outputs": [],
   "source": []
  }
 ],
 "metadata": {
  "kernelspec": {
   "display_name": "Python 3",
   "language": "python",
   "name": "python3"
  },
  "language_info": {
   "codemirror_mode": {
    "name": "ipython",
    "version": 3
   },
   "file_extension": ".py",
   "mimetype": "text/x-python",
   "name": "python",
   "nbconvert_exporter": "python",
   "pygments_lexer": "ipython3",
   "version": "3.7.6"
  }
 },
 "nbformat": 4,
 "nbformat_minor": 4
}
