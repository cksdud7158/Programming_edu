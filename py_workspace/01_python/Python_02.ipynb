{
 "cells": [
  {
   "cell_type": "code",
   "execution_count": 5,
   "metadata": {},
   "outputs": [
    {
     "name": "stdout",
     "output_type": "stream",
     "text": [
      "20180522\n",
      "Rainy\n",
      "20180522Rainy\n"
     ]
    }
   ],
   "source": [
    "#PDF Page 2-40\n",
    "strdata='20180522Rainy'\n",
    "date = '20180522Rainy'[0:8]\n",
    "weather = '20180522Rainy'[8:]\n",
    "print(date)\n",
    "print(weather)\n",
    "all = strdata[:]\n",
    "print(all)\n"
   ]
  },
  {
   "cell_type": "code",
   "execution_count": 8,
   "metadata": {},
   "outputs": [
    {
     "name": "stdout",
     "output_type": "stream",
     "text": [
      "['기생충', ' 1987', ' 킹덤', ' 스타워즈', ' 쥬라기공원']\n",
      "기생충 1987 킹덤 스타워즈 쥬라기공원\n"
     ]
    }
   ],
   "source": [
    "# spilt() 함수와 join() 함수의 사용방법\n",
    "# spilt() 를 통해서 쪼개어진 문자열들은 리스트 형태로 반환\n",
    "# join()은 특정한 구분자로 나눠져있는 리스트 자료형을 하나의 문자열로 만들어서 반환\n",
    "\n",
    "movies='기생충, 1987, 킹덤, 스타워즈, 쥬라기공원'\n",
    "movieL = movies.split(',')\n",
    "print(movieL) #[]\n",
    "\n",
    "movie=''\n",
    "movie= movie.join(movieL)\n",
    "print(movie)"
   ]
  },
  {
   "cell_type": "markdown",
   "metadata": {},
   "source": [
    "## 리스트 생성, 수정, 삭제, 추가"
   ]
  },
  {
   "cell_type": "code",
   "execution_count": 12,
   "metadata": {},
   "outputs": [
    {
     "name": "stdout",
     "output_type": "stream",
     "text": [
      "[2, 5, 3, 10, 4]\n"
     ]
    }
   ],
   "source": [
    "#1. 리스트 생성 \n",
    "myList = [2,5,3,10,4]\n",
    "myList1 = []\n",
    "myList2 = list()\n",
    "\n",
    "len(myList1)\n",
    "len(myList2)\n",
    "len(myList)\n",
    "\n",
    "myList1.extend(myList) # 확장됨\n",
    "\n",
    "print(myList1)"
   ]
  },
  {
   "cell_type": "code",
   "execution_count": 14,
   "metadata": {},
   "outputs": [
    {
     "data": {
      "text/plain": [
       "[2, 5, 3, -10, 4]"
      ]
     },
     "execution_count": 14,
     "metadata": {},
     "output_type": "execute_result"
    }
   ],
   "source": [
    "# 2, 수정\n",
    "\n",
    "myList[3] = -10\n",
    "myList"
   ]
  },
  {
   "cell_type": "code",
   "execution_count": 69,
   "metadata": {},
   "outputs": [
    {
     "data": {
      "text/plain": [
       "[2, 5, 3, 78787, 1, 2, 3]"
      ]
     },
     "execution_count": 69,
     "metadata": {},
     "output_type": "execute_result"
    }
   ],
   "source": [
    "## 3. 추가 \n",
    "\n",
    "#myList.append(100)\n",
    "#myList\n",
    "\n",
    "myList.insert(len(myList),3)\n",
    "myList"
   ]
  },
  {
   "cell_type": "code",
   "execution_count": 66,
   "metadata": {},
   "outputs": [
    {
     "data": {
      "text/plain": [
       "[2, 5, 3, 78787]"
      ]
     },
     "execution_count": 66,
     "metadata": {},
     "output_type": "execute_result"
    }
   ],
   "source": [
    "#4. 삭제하기 \n",
    "'''\n",
    "    del: 인덱스로 삭제\n",
    "    remove ; 삭제할 값을 직접 입력\n",
    "    pop : 맨 마지막 값을 삭제한 후 그 값을 리턴함\n",
    "'''\n",
    "#del myList[3]\n",
    "del myList[3:5]\n",
    "#myList.pop()\n",
    "myList"
   ]
  },
  {
   "cell_type": "markdown",
   "metadata": {},
   "source": [
    "## 리스트에서 값 추출하기"
   ]
  },
  {
   "cell_type": "code",
   "execution_count": 72,
   "metadata": {},
   "outputs": [
    {
     "data": {
      "text/plain": [
       "[2, [10, 20, 30], 3, 78787, 1, 2, 3]"
      ]
     },
     "execution_count": 72,
     "metadata": {},
     "output_type": "execute_result"
    }
   ],
   "source": [
    "myList\n",
    "yourList = [10,20,30]\n",
    "myList[1] = yourList\n",
    "myList"
   ]
  },
  {
   "cell_type": "code",
   "execution_count": 79,
   "metadata": {},
   "outputs": [
    {
     "name": "stdout",
     "output_type": "stream",
     "text": [
      "[2, 3]\n",
      "[5, 6, 7, 8]\n",
      "[6, 7, 8]\n",
      "[8, 7, 6, 5, 4, 3, 2, 1]\n"
     ]
    }
   ],
   "source": [
    "myList =[1,2,3,4,5,6,7,8]\n",
    "# 슬라이싱을 써서 직접 작성 \n",
    "#1, 2,3 \n",
    "print(myList[1:3])\n",
    "\n",
    "#2. 5,6,7,8\n",
    "print(myList[4:])\n",
    "\n",
    "#3. 6,7,8\n",
    "print(myList[-3:])\n",
    "\n",
    "# myList.sort()\n",
    "myList.sort(reverse=True)\n",
    "print(myList)"
   ]
  },
  {
   "cell_type": "code",
   "execution_count": 82,
   "metadata": {},
   "outputs": [
    {
     "name": "stdout",
     "output_type": "stream",
     "text": [
      "all\t date\t movie\t movieL\t movies\t myList\t myList1\t myList2\t strdata\t \n",
      "weather\t yourList\t \n"
     ]
    }
   ],
   "source": [
    "'''\n",
    "    매직 명령어 \n",
    "    %로 시작한다. \n",
    "    %whos :지금까지 사용한 객체 변수명과 그에 해당하는 간단한 정보를 확인\n",
    "    %who :\n",
    "'''\n",
    "\n",
    "# %whos\n",
    "%who"
   ]
  },
  {
   "cell_type": "code",
   "execution_count": null,
   "metadata": {},
   "outputs": [],
   "source": [
    "'''\n",
    "    동일한 이름의 변수 선언시 메모리에서 찾는 순서 \n",
    "    1)로컬 변수 는 로컬 영역에 저장 -- 여기를 가장 먼저 찾는다.\n",
    "    2) 전역변수는 전역 영역에 저장 -- 여기를 2번쨰로 찾는다.\n",
    "    3) 내장변수는 내장영역에 저장 -- 여기를 가장 마지막으로 찾는다. \n",
    "    --> 함수명과 객체 변수명을 동일한 이름으로 사용하지 말아라 \n",
    "    --> restart \n",
    "\n",
    "'''"
   ]
  },
  {
   "cell_type": "code",
   "execution_count": 1,
   "metadata": {},
   "outputs": [
    {
     "name": "stdout",
     "output_type": "stream",
     "text": [
      "['a', 'b', 'c', 'd']\n"
     ]
    }
   ],
   "source": [
    "aaL = list('abcd')\n",
    "print(aaL)\n",
    "\n",
    "# list = [3,4,5]\n",
    "# print(list)\n",
    "\n",
    "# listData = [3,4,5]\n",
    "# print(listData)"
   ]
  },
  {
   "cell_type": "code",
   "execution_count": null,
   "metadata": {},
   "outputs": [],
   "source": [
    "a =  [1,3,5,4,2] \n",
    "print(a[::-1])"
   ]
  },
  {
   "cell_type": "code",
   "execution_count": null,
   "metadata": {},
   "outputs": [],
   "source": [
    "b =  ['Python', 'is', 'too', 'interesting']\n",
    "bstr = ' '.join(b)\n",
    "bstr\n",
    "print('\\033[1m' + bstr )"
   ]
  },
  {
   "cell_type": "markdown",
   "metadata": {},
   "source": [
    "### 2차원 배열에서 데이타 추출하기 "
   ]
  },
  {
   "cell_type": "code",
   "execution_count": 4,
   "metadata": {},
   "outputs": [
    {
     "name": "stdout",
     "output_type": "stream",
     "text": [
      "[[1, 3], [4, 6]]\n",
      "6\n"
     ]
    }
   ],
   "source": [
    "test2D =[[1,3],[4,6]]\n",
    "print(test2D)\n",
    "\n",
    "# 6만 출력 \n",
    "print(test2D[1][1])"
   ]
  },
  {
   "cell_type": "markdown",
   "metadata": {},
   "source": [
    "### 문제 \n",
    "### test2DL = [[1,2,3],[4,5,6],[7,8,9]] 이차원 배열을 생성 \n",
    "### 10이라는 값이 [7,8,9] 뒤에 오도록 \n"
   ]
  },
  {
   "cell_type": "code",
   "execution_count": 8,
   "metadata": {},
   "outputs": [
    {
     "name": "stdout",
     "output_type": "stream",
     "text": [
      "[[1, 2, 3], [4, 5, 6], [7, 8, 9, 10]]\n"
     ]
    }
   ],
   "source": [
    "test2DL = [[1,2,3],[4,5,6],[7,8,9]]\n",
    "# test2DL[2].append(10)\n",
    "test2DL[2].insert(len(test2DL), 10)\n",
    "print(test2DL)"
   ]
  },
  {
   "cell_type": "markdown",
   "metadata": {},
   "source": [
    "### 문제 5.\n",
    "#### myLang = [['hellow'],['python'],['good-bye','c']]를 생성 \n",
    "#### good 만 추출해서 출력 "
   ]
  },
  {
   "cell_type": "code",
   "execution_count": 15,
   "metadata": {},
   "outputs": [
    {
     "name": "stdout",
     "output_type": "stream",
     "text": [
      "good\n"
     ]
    }
   ],
   "source": [
    "myLang = [['hellow','python'],['good-bye','c']]\n",
    "# print(myLang[1][0][:4])\n",
    "print(myLang[1][0].split('-')[0])"
   ]
  },
  {
   "cell_type": "markdown",
   "metadata": {},
   "source": [
    "## 정렬하기 - 오름차순(기본), 내림차순"
   ]
  },
  {
   "cell_type": "code",
   "execution_count": 23,
   "metadata": {},
   "outputs": [
    {
     "name": "stdout",
     "output_type": "stream",
     "text": [
      "[10, 5, 3, 2, 1]\n",
      "True\n",
      "False\n",
      "None\n"
     ]
    }
   ],
   "source": [
    "sortL = [3,1,5,2,10]\n",
    "sortL.sort()\n",
    "# print(sortL)\n",
    "\n",
    "sortL.sort(reverse=True)\n",
    "print(sortL)\n",
    "\n",
    "print(5 in sortL)\n",
    "print(500 in sortL) # 해당하는 값이 리스트 안에 있는지 확인 \n",
    "\n",
    "print(sortL.sort()) # 리턴값이 void 따라서 None 이 나옴 "
   ]
  },
  {
   "cell_type": "code",
   "execution_count": null,
   "metadata": {},
   "outputs": [],
   "source": []
  },
  {
   "cell_type": "code",
   "execution_count": null,
   "metadata": {},
   "outputs": [],
   "source": []
  },
  {
   "cell_type": "code",
   "execution_count": null,
   "metadata": {},
   "outputs": [],
   "source": []
  },
  {
   "cell_type": "code",
   "execution_count": null,
   "metadata": {},
   "outputs": [],
   "source": []
  },
  {
   "cell_type": "code",
   "execution_count": null,
   "metadata": {},
   "outputs": [],
   "source": []
  },
  {
   "cell_type": "code",
   "execution_count": null,
   "metadata": {},
   "outputs": [],
   "source": []
  },
  {
   "cell_type": "code",
   "execution_count": null,
   "metadata": {},
   "outputs": [],
   "source": []
  },
  {
   "cell_type": "code",
   "execution_count": null,
   "metadata": {},
   "outputs": [],
   "source": []
  },
  {
   "cell_type": "code",
   "execution_count": null,
   "metadata": {},
   "outputs": [],
   "source": []
  },
  {
   "cell_type": "code",
   "execution_count": null,
   "metadata": {},
   "outputs": [],
   "source": []
  },
  {
   "cell_type": "code",
   "execution_count": null,
   "metadata": {},
   "outputs": [],
   "source": []
  },
  {
   "cell_type": "code",
   "execution_count": null,
   "metadata": {},
   "outputs": [],
   "source": []
  },
  {
   "cell_type": "code",
   "execution_count": null,
   "metadata": {},
   "outputs": [],
   "source": []
  }
 ],
 "metadata": {
  "kernelspec": {
   "display_name": "Python 3",
   "language": "python",
   "name": "python3"
  },
  "language_info": {
   "codemirror_mode": {
    "name": "ipython",
    "version": 3
   },
   "file_extension": ".py",
   "mimetype": "text/x-python",
   "name": "python",
   "nbconvert_exporter": "python",
   "pygments_lexer": "ipython3",
   "version": "3.7.6"
  }
 },
 "nbformat": 4,
 "nbformat_minor": 4
}
