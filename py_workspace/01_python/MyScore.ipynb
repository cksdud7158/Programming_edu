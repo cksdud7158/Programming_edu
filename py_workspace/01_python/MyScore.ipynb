{
 "cells": [
  {
   "cell_type": "code",
   "execution_count": null,
   "metadata": {},
   "outputs": [],
   "source": [
    "'''\n",
    "    MyScore 는 5개의 함수를 가지고 있는 모듈\n",
    "    모듈은 반드시 확장자가 py로 끝나야한다. \n",
    "    \n",
    "    1) File > Download as > Python py 선택\n",
    "    2) 매직 명령어 사용  %%writefile MyScore\n",
    "    \n",
    "    실행 후 python 파일이 하나 만들어진다. \n",
    "    \n",
    "    참고로 %% 매직 명령어는 코드의 첫부분에 나와야한다. \n",
    "'''"
   ]
  },
  {
   "cell_type": "code",
   "execution_count": 4,
   "metadata": {},
   "outputs": [
    {
     "name": "stdout",
     "output_type": "stream",
     "text": [
      "Writing MyScore.py\n"
     ]
    }
   ],
   "source": [
    "%%writefile MyScore.py\n",
    "def getSum(data):\n",
    "    total=0\n",
    "    for i in data:\n",
    "        total += i\n",
    "    return total\n",
    "\n",
    "def getMean(data):\n",
    "    total=0\n",
    "    for i in data:\n",
    "        total += i\n",
    "    mean = total/len(data)\n",
    "    return mean\n",
    "\n",
    "def getMax(data):\n",
    "    maxNum=data[1]\n",
    "    for i in data[1:]:\n",
    "        if(i>maxNum):\n",
    "            maxNum=i\n",
    "    return maxNum\n",
    "        \n",
    "\n",
    "def getMin(data):\n",
    "    minNum=data[1]\n",
    "    for i in data[1:]:\n",
    "        if(i<minNum):\n",
    "            minNum=i\n",
    "    return minNum\n",
    "\n",
    "def getTwoSum(num2, num1=1): # num1 이 더큰값이 왔을 때\n",
    "    total=0\n",
    "    if num2<num1:\n",
    "        num1, num2 = num2, num1\n",
    "    for i in range(num1, num2+1):\n",
    "        total += i\n",
    "    return total\n",
    "\n"
   ]
  }
 ],
 "metadata": {
  "kernelspec": {
   "display_name": "Python 3",
   "language": "python",
   "name": "python3"
  },
  "language_info": {
   "codemirror_mode": {
    "name": "ipython",
    "version": 3
   },
   "file_extension": ".py",
   "mimetype": "text/x-python",
   "name": "python",
   "nbconvert_exporter": "python",
   "pygments_lexer": "ipython3",
   "version": "3.7.6"
  }
 },
 "nbformat": 4,
 "nbformat_minor": 4
}
