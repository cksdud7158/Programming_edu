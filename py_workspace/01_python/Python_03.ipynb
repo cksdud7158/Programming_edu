{
 "cells": [
  {
   "cell_type": "markdown",
   "metadata": {},
   "source": [
    "## Tuple- 데이타 조회만 가능(Immutable)"
   ]
  },
  {
   "cell_type": "code",
   "execution_count": null,
   "metadata": {},
   "outputs": [],
   "source": [
    "'''\n",
    "    tuple은 몇가지 점을 제외하고 LIst와 동일하다. \n",
    "    - 리스트는 []으로 값을 둘러 쌓지만 튜플은 ()로 둘러싼다.\n",
    "    - 리스트는 그 값의 추가, 삭제, 수정이 가능하다. \n",
    "    - 튜플은 값의 변경이 안되고 읽기만 가능하다. \n",
    "'''"
   ]
  },
  {
   "cell_type": "code",
   "execution_count": 4,
   "metadata": {},
   "outputs": [
    {
     "name": "stdout",
     "output_type": "stream",
     "text": [
      "(1, 2, 3, 4)\n",
      "(4, 5, 6)\n",
      "2\n",
      "<class 'int'>\n"
     ]
    },
    {
     "data": {
      "text/plain": [
       "'\\n    프로그램이 실행되는 동안 그 값이 항상 변하기 않기를 바란다거나 \\n    값이 바뀔까봐 걱정하고 싶지 않은 경우는 튜플을 사용 \\n\\n'"
      ]
     },
     "execution_count": 4,
     "metadata": {},
     "output_type": "execute_result"
    }
   ],
   "source": [
    "#1. 튜플 생성하기 \n",
    "t1 = (1,2,3,4)\n",
    "t2 = (4,5,6)\n",
    "print(t1)\n",
    "print(t2)\n",
    "\n",
    "t3 = (1)\n",
    "t3\n",
    "print(type(t3))\n",
    "t4 = (1,) # 값이 하나일떄는 반드시 뒤에 ,를 찍어줘야 튜플로 인식한다. \n",
    "\n",
    "'''\n",
    "    프로그램이 실행되는 동안 그 값이 항상 변하기 않기를 바란다거나 \n",
    "    값이 바뀔까봐 걱정하고 싶지 않은 경우는 튜플을 사용 \n",
    "\n",
    "'''"
   ]
  },
  {
   "cell_type": "code",
   "execution_count": 11,
   "metadata": {},
   "outputs": [
    {
     "name": "stdout",
     "output_type": "stream",
     "text": [
      "3\n",
      "<class 'int'>\n",
      "(3, 4, 5)\n",
      "<class 'tuple'>\n",
      "(3,)\n",
      "<class 'tuple'>\n",
      "[1, 2, 3, 4, 5, 6, 7, 10]\n"
     ]
    }
   ],
   "source": [
    "a,b,c = 3,4,5\n",
    "print(a)\n",
    "print(type(a))\n",
    "\n",
    "a= 3,4,5 # ()는 생략 가능하다.\n",
    "print(a)\n",
    "print(type(a))\n",
    "\n",
    "a= 3,\n",
    "print(a)\n",
    "print(type(a))\n",
    "\n",
    "t1 = 1,2,3,4,5,6,7,10\n",
    "t1List = list(t1)\n",
    "print(t1List)"
   ]
  },
  {
   "cell_type": "code",
   "execution_count": 14,
   "metadata": {},
   "outputs": [
    {
     "name": "stdout",
     "output_type": "stream",
     "text": [
      "112\n",
      "160\n"
     ]
    }
   ],
   "source": [
    "import sys\n",
    "\n",
    "print(sys.getsizeof(t1))\n",
    "print(sys.getsizeof(t1List)) # tuple이 리스트보다 메모리 효율성이 좋다. \n"
   ]
  },
  {
   "cell_type": "markdown",
   "metadata": {},
   "source": [
    "## 딕셔너리 "
   ]
  },
  {
   "cell_type": "code",
   "execution_count": 17,
   "metadata": {},
   "outputs": [
    {
     "name": "stdout",
     "output_type": "stream",
     "text": [
      "{'name': 'DRAM', 'capa': '32g', 'maker': 'SK-H', 'price': 32000}\n"
     ]
    }
   ],
   "source": [
    "# 1. 생성하기 \n",
    "proDic ={'name':'DRAM','capa':'32g','maker':'SK-H','price':32000}\n",
    "print(proDic)"
   ]
  },
  {
   "cell_type": "code",
   "execution_count": 18,
   "metadata": {},
   "outputs": [
    {
     "name": "stdout",
     "output_type": "stream",
     "text": [
      "DRAM\n"
     ]
    }
   ],
   "source": [
    "# 2. 조회하기 \n",
    "'''\n",
    "    리스트, 튜플은 데이타 요소를 출력할 때 \n",
    "    인덱싱이나 슬라이싱 기법을 사용해서 데잍타를 추출 \n",
    "    \n",
    "    그런데 딕셔너리는 데이타 추출하는 방법이 단 한가지 방법만 있다.\n",
    "    바로 key를 이용해서 값을 구하는 방버 \n",
    "'''\n",
    "\n",
    "print(proDic['name'])"
   ]
  },
  {
   "cell_type": "code",
   "execution_count": 19,
   "metadata": {},
   "outputs": [
    {
     "name": "stdout",
     "output_type": "stream",
     "text": [
      "{'name': 'DRAM', 'capa': '32g', 'maker': 'SK-H', 'price': 230000}\n"
     ]
    }
   ],
   "source": [
    "#3. 데이타 수정하기 \n",
    "proDic['price'] = 230000\n",
    "print(proDic)"
   ]
  },
  {
   "cell_type": "code",
   "execution_count": 21,
   "metadata": {},
   "outputs": [
    {
     "name": "stdout",
     "output_type": "stream",
     "text": [
      "{'name': 'DRAM', 'capa': '32g', 'maker': 'SK-H', 'price': 230000, 'IOC': '이천', 'pop': 33000}\n"
     ]
    }
   ],
   "source": [
    "# 4. 데이타 추가하기..수정하기\n",
    "addInfo = {'IOC':'이천', 'pop':33000}\n",
    "proDic.update(addInfo)\n",
    "print(proDic)"
   ]
  },
  {
   "cell_type": "code",
   "execution_count": 22,
   "metadata": {},
   "outputs": [
    {
     "name": "stdout",
     "output_type": "stream",
     "text": [
      "{'name': 'DRAM', 'capa': '32g', 'maker': 'SK-H', 'price': 230000, 'IOC': '이천'}\n"
     ]
    }
   ],
   "source": [
    "#5. 데이타 삭제하기 : del dic[키 이름]\n",
    "del proDic['pop']\n",
    "print(proDic)\n"
   ]
  },
  {
   "cell_type": "code",
   "execution_count": null,
   "metadata": {},
   "outputs": [],
   "source": [
    "'''\n",
    "    딕셔너리 주의 사항\n",
    "    \n",
    "    1.\n",
    "    값은 중복이 될수 있지만 키 값은 원래 고유해야한다,\n",
    "    그런데 키값이 중복되어서 들어간다면 나중에 추가된 키값으로 덮어 씌어진다.\n",
    "    에러가 나지는 않는다.\n",
    "    \n",
    "    2.\n",
    "    키 값은 리스트로 올 수 없다. \n",
    "    딕셔너리에서 키로 쓸 수 있느냐 없느냐의 기준은 \n",
    "    해당하는 키값이 변경될 수 있는 값인가의 여부에 따라 달라진다.\n",
    "    \n",
    "    \n",
    "'''"
   ]
  },
  {
   "cell_type": "code",
   "execution_count": 27,
   "metadata": {},
   "outputs": [],
   "source": [
    "aa= {1:'a', 1:'b'}\n",
    "aa\n",
    "\n",
    "# bb={[1,2]:'hi'}\n",
    "# bb\n",
    "\n",
    "cc= {(1,2):'hello'}"
   ]
  },
  {
   "cell_type": "markdown",
   "metadata": {},
   "source": [
    "### 딕셔너리에서 함수 사용하기 \n",
    "\n"
   ]
  },
  {
   "cell_type": "code",
   "execution_count": 29,
   "metadata": {},
   "outputs": [
    {
     "data": {
      "text/plain": [
       "{'name': 'james', 'age': 33, 'address': 'NY', 'phone': '0102222'}"
      ]
     },
     "execution_count": 29,
     "metadata": {},
     "output_type": "execute_result"
    }
   ],
   "source": [
    "dic ={'name':'james', 'age':33,'address':'NY','phone':'0102222'}\n",
    "dic"
   ]
  },
  {
   "cell_type": "code",
   "execution_count": 34,
   "metadata": {},
   "outputs": [
    {
     "name": "stdout",
     "output_type": "stream",
     "text": [
      "dict_keys(['name', 'age', 'address', 'phone'])\n",
      "['name', 'age', 'address', 'phone']\n",
      "dict_values(['james', 33, 'NY', '0102222'])\n"
     ]
    }
   ],
   "source": [
    "#1. keys(), value()\n",
    "dic_key = dic.keys()\n",
    "print(dic_key)\n",
    "# print(type(dic_key))\n",
    "'''\n",
    "    dict_keys 객체는 리스트를 사용하는 것과의 차이가 없지만 \n",
    "    리스트 고유의 함수를 수행할 수 없다. \n",
    "    append(), insert(), pop(), remove(), sort() 이런 함수를 수행할 수 없다.\n",
    "    \n",
    "    for문과 연결 \n",
    "    \n",
    "'''\n",
    "print(list(dic_key))\n",
    "dic_value = dic.values()\n",
    "print(dic_value)\n"
   ]
  },
  {
   "cell_type": "code",
   "execution_count": 36,
   "metadata": {},
   "outputs": [
    {
     "name": "stdout",
     "output_type": "stream",
     "text": [
      "name\n",
      "age\n",
      "address\n",
      "phone\n",
      "******************************\n",
      "james\n",
      "33\n",
      "NY\n",
      "0102222\n"
     ]
    }
   ],
   "source": [
    "for k in dic.keys():\n",
    "    print(k)\n",
    "print('*'*30)\n",
    "for k in dic.values():\n",
    "    print(k)"
   ]
  },
  {
   "cell_type": "code",
   "execution_count": 41,
   "metadata": {},
   "outputs": [
    {
     "name": "stdout",
     "output_type": "stream",
     "text": [
      "name \tage \taddress \tphone \t"
     ]
    }
   ],
   "source": [
    "# name age address phone\n",
    "for k in dic.keys():\n",
    "    print(k,'\\t', end='')\n",
    "    "
   ]
  },
  {
   "cell_type": "code",
   "execution_count": 42,
   "metadata": {},
   "outputs": [
    {
     "name": "stdout",
     "output_type": "stream",
     "text": [
      "dict_items([('name', 'james'), ('age', 33), ('address', 'NY'), ('phone', '0102222')])\n"
     ]
    }
   ],
   "source": [
    "# 2. key value 모두 가지고 올 때 items \n",
    "dic_item = dic.items()\n",
    "print(dic_item) # 키와 벨류를 쌍으로 묶은 튜플로 리턴 "
   ]
  },
  {
   "cell_type": "code",
   "execution_count": 48,
   "metadata": {},
   "outputs": [
    {
     "name": "stdout",
     "output_type": "stream",
     "text": [
      "NY\n",
      "None\n"
     ]
    }
   ],
   "source": [
    "# 3. key 로 value 얻기 get()\n",
    "dic\n",
    "address = dic.get('address')\n",
    "print(address)\n",
    "'''\n",
    "    None 출력되는 경우 \n",
    "    1) 반환값 없는 함수를 print() 안에다 적용시킨 경우 sort()/sorted()\n",
    "    2) 딕셔너리에서 존재하는 않는 키값을 받아올때 \n",
    "'''\n",
    "print(dic.get('addr')) # 존재하지 않는 키를 얻어오면 None 출력 \n",
    "\n",
    "# addr = dic['addr']\n",
    "# print(addr) # 에러남  get은 None을 리턴 하지만 이와같은 경우는 에러 발생 \n"
   ]
  },
  {
   "cell_type": "markdown",
   "metadata": {},
   "source": [
    "## set"
   ]
  },
  {
   "cell_type": "code",
   "execution_count": null,
   "metadata": {},
   "outputs": [],
   "source": [
    "'''\n",
    "    중복 허용하지 않는다. \n",
    "    순서 없다, \n",
    "    \n",
    "    리스트나 튜플은 순서가 있기때문에 인덱싱을 통해서 데이타를 추출할 수 있지만\n",
    "    set은 인덱싱으로 데이타 추출 안된다. \n",
    "    \n",
    "    만약에 Set에 저장된 값을 인덱싱, 슬라이싱으로 핸들링하고 한다면, \n",
    "    리스트 혹은 튜플로 자료형을 변환한 후 해야한다.\n",
    "    list(), tuple()\n",
    "'''"
   ]
  },
  {
   "cell_type": "code",
   "execution_count": 50,
   "metadata": {},
   "outputs": [
    {
     "data": {
      "text/plain": [
       "{'a', 'b', 'c'}"
      ]
     },
     "execution_count": 50,
     "metadata": {},
     "output_type": "execute_result"
    }
   ],
   "source": [
    "mySet = {'a','b','c','a','b'}\n",
    "mySet"
   ]
  },
  {
   "cell_type": "code",
   "execution_count": 54,
   "metadata": {},
   "outputs": [
    {
     "name": "stdout",
     "output_type": "stream",
     "text": [
      "[1, 2, 3, 4, 2, 3, 124, 234, 124, 12, 3, 32, 1, 2, 34, 5, 6, 2]\n",
      "{32, 1, 2, 3, 4, 34, 5, 6, 234, 12, 124}\n",
      "[32, 1, 2, 3, 4, 34, 5, 6, 234, 12, 124]\n"
     ]
    }
   ],
   "source": [
    "'''\n",
    "    중복을 허용하지 않는 set의 특징은 다른 자료형에 담긴 데이타의 중복을 제거하기 위한 \n",
    "    필터 역할을 매우 종종한다. \n",
    "    \n",
    "'''\n",
    "a = [1,2,3,4,2,3,124,234,124,12,3,32,1,2,34,5,6,2]\n",
    "print(a)\n",
    "setData= set(a)\n",
    "print(setData)\n",
    "listData = list(setData)\n",
    "print(listData)"
   ]
  },
  {
   "cell_type": "code",
   "execution_count": 60,
   "metadata": {},
   "outputs": [
    {
     "name": "stdout",
     "output_type": "stream",
     "text": [
      "[234, 124, 34, 32, 12, 6, 5, 4, 3, 2, 1]\n",
      "[1, 2, 3, 4, 5, 6, 12, 32, 34, 124, 234]\n"
     ]
    }
   ],
   "source": [
    "listData.sort(reverse=True)\n",
    "print(listData)\n",
    "print(sorted(listData))"
   ]
  },
  {
   "cell_type": "markdown",
   "metadata": {},
   "source": [
    "## Set관련 함수 "
   ]
  },
  {
   "cell_type": "code",
   "execution_count": 69,
   "metadata": {},
   "outputs": [],
   "source": [
    "# 1. 추가 ... add\n",
    "s1 = set([1,2,3])\n",
    "s1.add(4)\n",
    "\n",
    "# s1.add({5,6,7}) # 하나의 값만 추가할 수 있다. \n",
    "# s1"
   ]
  },
  {
   "cell_type": "code",
   "execution_count": 77,
   "metadata": {},
   "outputs": [
    {
     "data": {
      "text/plain": [
       "{1, 2, 3, 4, 5, 6, 7}"
      ]
     },
     "execution_count": 77,
     "metadata": {},
     "output_type": "execute_result"
    }
   ],
   "source": [
    "#2. 값 여러개 추가... update()\n",
    "s2 = {4,5,6}\n",
    "s1.update(s2)\n",
    "s1.update({7})\n",
    "s1"
   ]
  }
 ],
 "metadata": {
  "kernelspec": {
   "display_name": "Python 3",
   "language": "python",
   "name": "python3"
  },
  "language_info": {
   "codemirror_mode": {
    "name": "ipython",
    "version": 3
   },
   "file_extension": ".py",
   "mimetype": "text/x-python",
   "name": "python",
   "nbconvert_exporter": "python",
   "pygments_lexer": "ipython3",
   "version": "3.7.6"
  }
 },
 "nbformat": 4,
 "nbformat_minor": 4
}
