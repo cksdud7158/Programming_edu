{
 "cells": [
  {
   "cell_type": "markdown",
   "metadata": {},
   "source": [
    "## 인덱싱, 슬라이싱"
   ]
  },
  {
   "cell_type": "code",
   "execution_count": 2,
   "metadata": {},
   "outputs": [],
   "source": [
    "import numpy as np"
   ]
  },
  {
   "cell_type": "code",
   "execution_count": 2,
   "metadata": {},
   "outputs": [
    {
     "data": {
      "text/plain": [
       "array([0, 1, 2, 3, 4])"
      ]
     },
     "execution_count": 2,
     "metadata": {},
     "output_type": "execute_result"
    }
   ],
   "source": [
    "narray = np.arange(5)\n",
    "narray"
   ]
  },
  {
   "cell_type": "code",
   "execution_count": 6,
   "metadata": {},
   "outputs": [
    {
     "name": "stdout",
     "output_type": "stream",
     "text": [
      "1 4\n",
      "[1 2 3 4]\n",
      "[1 2 3 4]\n",
      "[0 1 2 3 4]\n",
      "[2 3]\n"
     ]
    }
   ],
   "source": [
    "print(narray[1], narray[-1]) # 음수가 붙으면 뒤에서 n번째 \n",
    "print(narray[1:])\n",
    "print(narray[1:5])\n",
    "print(narray[:])\n",
    "print(narray[2:4]) "
   ]
  },
  {
   "cell_type": "code",
   "execution_count": null,
   "metadata": {},
   "outputs": [],
   "source": [
    "'''\n",
    "    2차원 배열에서의 인덱싱과 슬라이싱을 다뤄본다. \n",
    "    인덱스는 [ . ] 콤마를 기준으로 2 개의 인자를 받는다. \n",
    "    앞 인자값은 행의 index \n",
    "    뒤 인자값은 열의 index\n",
    "    , 없이 : 를 넣으면 모든것을 다 포함한다. \n",
    "'''"
   ]
  },
  {
   "cell_type": "code",
   "execution_count": 33,
   "metadata": {},
   "outputs": [
    {
     "data": {
      "text/plain": [
       "array([[ 8,  3,  7, 15],\n",
       "       [16, 10,  2,  2],\n",
       "       [ 2, 14,  2, 17],\n",
       "       [16, 15,  4, 11]])"
      ]
     },
     "execution_count": 33,
     "metadata": {},
     "output_type": "execute_result"
    }
   ],
   "source": [
    "np.random.seed(100)\n",
    "narray1 = np.random.randint(0,20,16).reshape(4,4)\n",
    "narray1"
   ]
  },
  {
   "cell_type": "code",
   "execution_count": 44,
   "metadata": {},
   "outputs": [
    {
     "data": {
      "text/plain": [
       "array([[ 8,  3],\n",
       "       [16, 10],\n",
       "       [ 2, 14],\n",
       "       [16, 15]])"
      ]
     },
     "execution_count": 44,
     "metadata": {},
     "output_type": "execute_result"
    }
   ],
   "source": [
    "# 1. narray1 에서 첫번쨰 줄 7을 가져오려면\n",
    "narray1[0,2]\n",
    "narray1[0][2]\n",
    "\n",
    "# 2. 두번쨰 라인    [16, 10,  2,  2],\n",
    "narray1[1,:]\n",
    "narray1[1][:]\n",
    "narray1[1:2,:] # 2차원 출력됨\n",
    "\n",
    "\n",
    "# 3. 전체 행에 대해서 4번쨰 열만 다 가져오려면\n",
    "narray1[:,3]\n",
    "narray1[:,3:]\n",
    "\n",
    "# 4. 전체행에 대해서 1,2 번쨰 열만 다 가져오려면\n",
    "narray1[:,:2]\n"
   ]
  },
  {
   "cell_type": "markdown",
   "metadata": {},
   "source": [
    "### 인덱싱과 조건 슬라이서 "
   ]
  },
  {
   "cell_type": "code",
   "execution_count": 48,
   "metadata": {},
   "outputs": [
    {
     "name": "stdout",
     "output_type": "stream",
     "text": [
      "[[ 1.76405235  0.40015721  0.97873798  2.2408932 ]\n",
      " [ 1.86755799 -0.97727788  0.95008842 -0.15135721]\n",
      " [-0.10321885  0.4105985   0.14404357  1.45427351]\n",
      " [ 0.76103773  0.12167502  0.44386323  0.33367433]]\n",
      "<class 'numpy.ndarray'>\n"
     ]
    }
   ],
   "source": [
    "np.random.seed(0)\n",
    "arr3 = np.random.randn(4,4)\n",
    "print(arr3)\n",
    "print(type(arr3))"
   ]
  },
  {
   "cell_type": "code",
   "execution_count": 51,
   "metadata": {},
   "outputs": [
    {
     "data": {
      "text/plain": [
       "array([[1.76405235, 0.40015721, 0.97873798, 2.2408932 ],\n",
       "       [1.86755799, 0.        , 0.95008842, 0.        ],\n",
       "       [0.        , 0.4105985 , 0.14404357, 1.45427351],\n",
       "       [0.76103773, 0.12167502, 0.44386323, 0.33367433]])"
      ]
     },
     "execution_count": 51,
     "metadata": {},
     "output_type": "execute_result"
    }
   ],
   "source": [
    "# 1. 논리연산자 사용\n",
    "arr3[arr3<0]\n",
    "\n",
    "# 2. 0보다 작은 값들을 전부 전부 0 으로 치환\n",
    "arr3[arr3<0] =0\n",
    "arr3 # 원본도 같이 바뀐다. "
   ]
  },
  {
   "cell_type": "code",
   "execution_count": 53,
   "metadata": {},
   "outputs": [
    {
     "data": {
      "text/plain": [
       "array([[ 1.76405235,  0.40015721,  0.97873798,  2.2408932 ],\n",
       "       [ 1.86755799, -1.        ,  0.95008842, -1.        ],\n",
       "       [-1.        ,  0.4105985 ,  0.14404357,  1.45427351],\n",
       "       [ 0.76103773,  0.12167502,  0.44386323,  0.33367433]])"
      ]
     },
     "execution_count": 53,
     "metadata": {},
     "output_type": "execute_result"
    }
   ],
   "source": [
    "# 3. where 함수 \n",
    "'''\n",
    "    arr3가 0보다 크면 arr3를 그대로 리턴 \n",
    "    arr3 가 0보다 작으면 -1을 리턴 \n",
    "'''\n",
    "\n",
    "arr3_1 = np.where(arr3>0, arr3, -1)\n",
    "arr3_1"
   ]
  },
  {
   "cell_type": "code",
   "execution_count": 59,
   "metadata": {},
   "outputs": [
    {
     "name": "stdout",
     "output_type": "stream",
     "text": [
      "[[False False]\n",
      " [ True  True]\n",
      " [ True  True]]\n",
      "[3 4 5 6]\n",
      "[[[1 2]\n",
      "  [3 4]\n",
      "  [5 6]]]\n"
     ]
    }
   ],
   "source": [
    "a= np.array([[1,2],[3,4],[5,6]])\n",
    "bool_a = (a>2)\n",
    "print(bool_a)\n",
    "\n",
    "print(a[bool_a])\n",
    "print(a[True])"
   ]
  },
  {
   "cell_type": "markdown",
   "metadata": {},
   "source": [
    "## Numpy 통계함수"
   ]
  },
  {
   "cell_type": "code",
   "execution_count": 3,
   "metadata": {},
   "outputs": [
    {
     "data": {
      "text/plain": [
       "array([[10, 16,  5, 13],\n",
       "       [15,  3,  6, 17],\n",
       "       [ 3,  6, 13, 11],\n",
       "       [ 6, 18, 18,  1]])"
      ]
     },
     "execution_count": 3,
     "metadata": {},
     "output_type": "execute_result"
    }
   ],
   "source": [
    "arr4 = np.random.randint(0,20,16).reshape(4,4)\n",
    "arr4"
   ]
  },
  {
   "cell_type": "code",
   "execution_count": null,
   "metadata": {},
   "outputs": [],
   "source": [
    "'''\n",
    "    Numpy 배열의 통계함수\n",
    "    sum(), mean(), min(), max(), argmin(), argmax(), cumsum()\n",
    "'''"
   ]
  },
  {
   "cell_type": "code",
   "execution_count": 4,
   "metadata": {},
   "outputs": [
    {
     "name": "stdout",
     "output_type": "stream",
     "text": [
      "161\n",
      "[34 43 42 42]\n",
      "[44 41 33 43]\n",
      "##################################################\n",
      "[[10 16  5 13]\n",
      " [25 19 11 30]\n",
      " [28 25 24 41]\n",
      " [34 43 42 42]]\n",
      "##################################################\n",
      "[[10 26 31 44]\n",
      " [15 18 24 41]\n",
      " [ 3  9 22 33]\n",
      " [ 6 24 42 43]]\n",
      "##################################################\n",
      "13\n"
     ]
    }
   ],
   "source": [
    "print(np.sum(arr4))\n",
    "print(np.sum(arr4,axis=0)) # 행의 i열을 다 더한값을 리턴\n",
    "print(np.sum(arr4,axis=1)) # 열의 i 행을 다 더한값을 리턴 \n",
    "print('#'*50)\n",
    "print(np.cumsum(arr4, axis=0))\n",
    "print('#'*50)\n",
    "print(np.cumsum(arr4, axis=1))\n",
    "print('#'*50)\n",
    "'''\n",
    "    axix =0\n",
    "    모든 행들을 다 검색 \n",
    "    그 중 가장 큰 값의 인덱스를 리턴\n",
    "'''\n",
    "print(np.argmax(arr4, axis=0))"
   ]
  },
  {
   "cell_type": "code",
   "execution_count": null,
   "metadata": {},
   "outputs": [],
   "source": []
  },
  {
   "cell_type": "code",
   "execution_count": null,
   "metadata": {},
   "outputs": [],
   "source": []
  },
  {
   "cell_type": "code",
   "execution_count": null,
   "metadata": {},
   "outputs": [],
   "source": []
  },
  {
   "cell_type": "code",
   "execution_count": null,
   "metadata": {},
   "outputs": [],
   "source": []
  },
  {
   "cell_type": "code",
   "execution_count": null,
   "metadata": {},
   "outputs": [],
   "source": []
  },
  {
   "cell_type": "code",
   "execution_count": null,
   "metadata": {},
   "outputs": [],
   "source": []
  },
  {
   "cell_type": "code",
   "execution_count": null,
   "metadata": {},
   "outputs": [],
   "source": []
  },
  {
   "cell_type": "code",
   "execution_count": null,
   "metadata": {},
   "outputs": [],
   "source": []
  },
  {
   "cell_type": "code",
   "execution_count": null,
   "metadata": {},
   "outputs": [],
   "source": []
  },
  {
   "cell_type": "code",
   "execution_count": null,
   "metadata": {},
   "outputs": [],
   "source": []
  },
  {
   "cell_type": "code",
   "execution_count": null,
   "metadata": {},
   "outputs": [],
   "source": []
  },
  {
   "cell_type": "code",
   "execution_count": null,
   "metadata": {},
   "outputs": [],
   "source": []
  },
  {
   "cell_type": "code",
   "execution_count": null,
   "metadata": {},
   "outputs": [],
   "source": []
  },
  {
   "cell_type": "code",
   "execution_count": null,
   "metadata": {},
   "outputs": [],
   "source": []
  },
  {
   "cell_type": "code",
   "execution_count": null,
   "metadata": {},
   "outputs": [],
   "source": []
  },
  {
   "cell_type": "code",
   "execution_count": null,
   "metadata": {},
   "outputs": [],
   "source": []
  },
  {
   "cell_type": "code",
   "execution_count": null,
   "metadata": {},
   "outputs": [],
   "source": []
  },
  {
   "cell_type": "code",
   "execution_count": null,
   "metadata": {},
   "outputs": [],
   "source": []
  },
  {
   "cell_type": "code",
   "execution_count": null,
   "metadata": {},
   "outputs": [],
   "source": []
  }
 ],
 "metadata": {
  "kernelspec": {
   "display_name": "Python 3",
   "language": "python",
   "name": "python3"
  },
  "language_info": {
   "codemirror_mode": {
    "name": "ipython",
    "version": 3
   },
   "file_extension": ".py",
   "mimetype": "text/x-python",
   "name": "python",
   "nbconvert_exporter": "python",
   "pygments_lexer": "ipython3",
   "version": "3.7.6"
  }
 },
 "nbformat": 4,
 "nbformat_minor": 4
}
