{
 "cells": [
  {
   "cell_type": "markdown",
   "metadata": {},
   "source": [
    "## Numpy 배열 생성하기 "
   ]
  },
  {
   "cell_type": "code",
   "execution_count": null,
   "metadata": {},
   "outputs": [],
   "source": [
    "'''\n",
    "    Numpy 는 Numeric Python의 약자이다.\n",
    "    수학 분야 관련된 통계 작업시 사용하는 파이썬의 가장 기본이 되는 라이브러리\n",
    "    과학계산 컴퓨팅 작업과 데이타 분석에 필요한 작업이 가능 \n",
    "    리스트와 거의 흡사하지만 \n",
    "    훨씬 더 빠르고 메모리 효율성이 높아서 성능상 우위에 있다. \n",
    "    \n",
    "    1) import해서 쓴다. \n",
    "    2) array() 사용\n",
    "    3) random의 랜덤함수들 사용 \n",
    "    \n",
    "'''"
   ]
  },
  {
   "cell_type": "markdown",
   "metadata": {},
   "source": [
    "#### np배열과 리스트를 각각 생성, 비교 "
   ]
  },
  {
   "cell_type": "code",
   "execution_count": 4,
   "metadata": {},
   "outputs": [],
   "source": [
    "import numpy as np"
   ]
  },
  {
   "cell_type": "code",
   "execution_count": 5,
   "metadata": {},
   "outputs": [
    {
     "name": "stdout",
     "output_type": "stream",
     "text": [
      "[4, 5, 6, 7]\n",
      "<class 'list'>\n",
      "[4 5 6 7]\n",
      "<class 'numpy.ndarray'>\n"
     ]
    }
   ],
   "source": [
    "#. array() 사용해서 np 배열을 생성 \n",
    "'''\n",
    "    1. 리스트는 출력결과가 [] 안에 요소들이 ,로 구분\n",
    "    2. np배열은 출력결과가 [] 안에 요소들이 , 로 구분되지않는다. \n",
    "    3. np 배열은 ndarray 타입으로 나온다. \n",
    "        ndarray 객체는 다차원 행렬 구조를 지원하는 Numpy의 핵심클래스입니다. \n",
    "'''\n",
    "myList = [4,5,6,7]\n",
    "print(myList)\n",
    "print(type(myList))\n",
    "myArr = np.array(myList)\n",
    "print(myArr)\n",
    "print(type(myArr))"
   ]
  },
  {
   "cell_type": "code",
   "execution_count": 12,
   "metadata": {},
   "outputs": [
    {
     "name": "stdout",
     "output_type": "stream",
     "text": [
      "[5, 6]\n",
      "[-5  6]\n",
      "[-5, 6]\n",
      "[-5  6]\n",
      "[4, 5, 6, 7]\n",
      "[ 4 -5  6  7]\n"
     ]
    }
   ],
   "source": [
    "myList\n",
    "myArr\n",
    "\n",
    "myL_sub = myList[1:3]\n",
    "print(myL_sub)\n",
    "\n",
    "myA_sub = myArr[1:3]\n",
    "print(myA_sub)\n",
    "\n",
    "myL_sub[0] = -5\n",
    "print(myL_sub)\n",
    "\n",
    "myA_sub[0] = -5\n",
    "print(myA_sub)\n",
    "\n",
    "print(myList)\n",
    "print(myArr)\n",
    "\n",
    "'''\n",
    "    numpy 배열은 list와 거의 똑같다. \n",
    "    하지만 list의 경우 원본을 유지하나, numpy 배열의 경우 원본을 변경한다. \n",
    "    \n",
    "'''"
   ]
  },
  {
   "cell_type": "code",
   "execution_count": 30,
   "metadata": {},
   "outputs": [
    {
     "name": "stdout",
     "output_type": "stream",
     "text": [
      "[0.00365199 0.85305257 0.38109022 0.86706805 0.49774828]\n",
      "<class 'numpy.ndarray'>\n",
      "[8 1 3 5 6]\n",
      "<class 'numpy.ndarray'>\n",
      "[ 2.6189074   0.36809596  0.47904689 -0.69445326 -0.72319082 -1.70179903\n",
      "  0.71193817  1.28981776  0.26737998 -2.14921658]\n",
      "<class 'numpy.ndarray'>\n"
     ]
    }
   ],
   "source": [
    "#2, 랜덤함수 사용해서 생성..\n",
    "#  rand(), randint()\n",
    "\n",
    "a = np.random.rand(5)\n",
    "print(a)\n",
    "print(type(a))\n",
    "\n",
    "b = np.random.randint(1,10,5)\n",
    "print(b)\n",
    "print(type(b))\n",
    "\n",
    "c = np.random.randn(10) # 가우시안 표준분포\n",
    "print(c)\n",
    "print(type(c))"
   ]
  },
  {
   "cell_type": "code",
   "execution_count": 53,
   "metadata": {},
   "outputs": [
    {
     "data": {
      "text/plain": [
       "array([1, 2, 3, 4, 5, 6])"
      ]
     },
     "execution_count": 53,
     "metadata": {},
     "output_type": "execute_result"
    }
   ],
   "source": [
    "# 리스트와의 차이점 \n",
    "'''\n",
    "    np 배열은 하나의 자료형만 저장 가능\n",
    "    즉, 숫자와 문자를 동시에 저장할 수 없다.\n",
    "    만약에 숫자와 문자가 동시에 저장되어지면 더큰 데이타 타입은 문자로 변환되어 저장 \n",
    "    이러한 제약을 가지는 이유 .... 내부 원소에 대한 접근과 반복문 실행을 빨리하기 위함 \n",
    "    \n",
    "    나중에 배우게될 Series 에서 다시 한번 언급 \n",
    "    \n",
    "    값의 타입을 명시할 수도 있다. \n",
    "    dtype 속성을 사용한다. int32, int64, float32, float64\n",
    "'''\n",
    "L = [1,2,3,'4',5,6,7]\n",
    "\n",
    "narr1 = np.array([1,2,'3','4',5,6])\n",
    "narr1\n",
    "\n",
    "narr2 = np.array([1,2,3,4,5,6])\n",
    "narr2\n",
    "\n",
    "narr3 = np.array([1.0,2.0,3.0,4.0], dtype='int32')\n",
    "narr3"
   ]
  },
  {
   "cell_type": "code",
   "execution_count": null,
   "metadata": {},
   "outputs": [],
   "source": []
  },
  {
   "cell_type": "markdown",
   "metadata": {},
   "source": [
    "### 배열 초기화"
   ]
  },
  {
   "cell_type": "code",
   "execution_count": 49,
   "metadata": {},
   "outputs": [
    {
     "name": "stdout",
     "output_type": "stream",
     "text": [
      "[0. 0. 0. 0. 0. 0. 0. 0. 0. 0.]\n",
      "<class 'numpy.ndarray'>\n",
      "****************************************************************************************************\n",
      "[1. 1. 1. 1. 1. 1. 1. 1. 1. 1.]\n",
      "<class 'numpy.ndarray'>\n",
      "****************************************************************************************************\n",
      "[3. 3. 3. 3. 3. 3. 3. 3. 3. 3.]\n",
      "<class 'numpy.ndarray'>\n",
      "****************************************************************************************************\n",
      "[[1. 0. 0.]\n",
      " [0. 1. 0.]\n",
      " [0. 0. 1.]]\n",
      "<class 'numpy.ndarray'>\n",
      "****************************************************************************************************\n",
      "[0 1 2]\n",
      "[0 1 2]\n",
      "[3 5 7 9]\n",
      "****************************************************************************************************\n",
      "[[-11 -11 -11 -11 -11]\n",
      " [-11 -11 -11 -11 -11]\n",
      " [-11 -11 -11 -11 -11]\n",
      " [-11 -11 -11 -11 -11]\n",
      " [-11 -11 -11 -11 -11]]\n",
      "<class 'numpy.ndarray'>\n"
     ]
    }
   ],
   "source": [
    "# 1. 0 값으로 초기화 zeros()\n",
    "az =  np.zeros(10)\n",
    "print(az)\n",
    "print(type(az))\n",
    "print('*'*100)\n",
    "\n",
    "# 2. 1 값으로 초기화 ones()\n",
    "ao =  np.ones(10)\n",
    "print(ao)\n",
    "print(type(ao))\n",
    "print('*'*100)\n",
    "\n",
    "# 3. 3으로 초기화...\n",
    "am = np.zeros(10)+3\n",
    "print(am)\n",
    "print(type(am))\n",
    "print('*'*100)\n",
    "\n",
    "# 4. \n",
    "ae = np.eye(3) # 3x3\n",
    "print(ae)\n",
    "print(type(ae))\n",
    "print('*'*100)\n",
    "\n",
    "# 5. arange()\n",
    "print(np.arange(3))\n",
    "print(np.arange(0,3))\n",
    "print(np.arange(3,10,2))\n",
    "print('*'*100)\n",
    "\n",
    "# 6. full()\n",
    "af = np.full((5,5),-11.0, dtype='int32')\n",
    "print(af)\n",
    "print(type(af))\n"
   ]
  },
  {
   "cell_type": "markdown",
   "metadata": {},
   "source": [
    "### numpy 배열의 속성과 기본함수\n",
    "#### ndim, shape, reshape, size, dtype, type"
   ]
  },
  {
   "cell_type": "code",
   "execution_count": 54,
   "metadata": {},
   "outputs": [
    {
     "data": {
      "text/plain": [
       "array([[1, 2, 3],\n",
       "       [4, 5, 6]])"
      ]
     },
     "execution_count": 54,
     "metadata": {},
     "output_type": "execute_result"
    }
   ],
   "source": [
    "arr1 = np.array([[1.0,2,3],[4,5,6]], dtype=np.int32)\n",
    "arr1"
   ]
  },
  {
   "cell_type": "code",
   "execution_count": 60,
   "metadata": {},
   "outputs": [
    {
     "name": "stdout",
     "output_type": "stream",
     "text": [
      "<class 'numpy.ndarray'>\n",
      "2\n",
      "(2, 3)\n",
      "6\n",
      "******************************\n",
      "[[1. 2. 3.]\n",
      " [4. 5. 6.]]\n",
      "<class 'numpy.ndarray'>\n",
      "******************************\n"
     ]
    },
    {
     "data": {
      "text/plain": [
       "array([[ 0,  1,  2,  3],\n",
       "       [ 4,  5,  6,  7],\n",
       "       [ 8,  9, 10, 11],\n",
       "       [12, 13, 14, 15],\n",
       "       [16, 17, 18, 19],\n",
       "       [20, 21, 22, 23],\n",
       "       [24, 25, 26, 27],\n",
       "       [28, 29, 30, 31]])"
      ]
     },
     "execution_count": 60,
     "metadata": {},
     "output_type": "execute_result"
    }
   ],
   "source": [
    "print(type(arr1))\n",
    "print(np.ndim(arr1))\n",
    "print(np.shape(arr1))\n",
    "print(np.size(arr1))\n",
    "\n",
    "print('*'*30)\n",
    "#arr1 배열의 요소값 타입을 한번에 바꿀 때 사용 \n",
    "arr1_1=arr1.astype(np.float64) # astype() == dtype\n",
    "print(arr1_1)\n",
    "print(type(arr1_1))\n",
    "\n",
    "print('*'*30)\n",
    "arr2 = np.arange(32).reshape(8,4)\n",
    "arr2"
   ]
  },
  {
   "cell_type": "markdown",
   "metadata": {},
   "source": [
    "### 랜덤함수와 seed값 설정하기"
   ]
  },
  {
   "cell_type": "code",
   "execution_count": null,
   "metadata": {},
   "outputs": [],
   "source": [
    "'''\n",
    "    numpy 의 random 모듈(서브패키지)에는 난수를 생성하는 다양한 함수들이 존재 \n",
    "    그중에서 가장 많이 사용되는 3가지를 정리 \n",
    "    \n",
    "    rand : 0~1 사이의 실수값을 반환 - rand(행, 열)\n",
    "    randn : 가우시안 정규분포값\n",
    "    randint : randint(row, high, size)\n",
    "    \n",
    "'''"
   ]
  },
  {
   "cell_type": "code",
   "execution_count": 62,
   "metadata": {},
   "outputs": [
    {
     "name": "stdout",
     "output_type": "stream",
     "text": [
      "[[ 1.07401842 -0.47383808  0.78476552  1.18806834]\n",
      " [-0.73241388 -0.46453917  0.82743536  0.54061011]\n",
      " [-1.62382911  0.50729633  0.68895299  0.51377702]\n",
      " [ 0.68867442  0.59785124 -0.47259027  0.25518664]]\n",
      "<class 'numpy.ndarray'>\n"
     ]
    }
   ],
   "source": [
    "arr3 = np.random.randn(4,4) # 컴퓨터 시간에 따라 다르게 만들어진다. \n",
    "print(arr3)\n",
    "print(type(arr3))"
   ]
  },
  {
   "cell_type": "code",
   "execution_count": 8,
   "metadata": {},
   "outputs": [
    {
     "name": "stdout",
     "output_type": "stream",
     "text": [
      "[[-1.18269089  1.33746165 -0.31430504  0.5566431 ]\n",
      " [-0.20929933 -0.01180037  1.23493345 -0.04341894]\n",
      " [-0.68178724  1.20069197  1.34394438 -0.834109  ]\n",
      " [ 1.0359977   1.6657991   0.94947856  1.06700952]]\n",
      "<class 'numpy.ndarray'>\n"
     ]
    }
   ],
   "source": [
    "# seed 값 설정하기 \n",
    "# 특정한 시작 숫자를 제공해서 난수를 발생..고정적인 난수 \n",
    "# 실행할 때 마다 난수값이 바뀌지않기 때문에 분석 결과를 확인하는데 용이 \n",
    "# seed 값은 한번만 정해주면 계속 유지 \n",
    "# seed 값은 양수를 넣어야함 \n",
    "\n",
    "np.random.seed(404)\n",
    "arr3 = np.random.randn(4,4)\n",
    "print(arr3)\n",
    "print(type(arr3))"
   ]
  },
  {
   "cell_type": "code",
   "execution_count": null,
   "metadata": {},
   "outputs": [],
   "source": []
  },
  {
   "cell_type": "code",
   "execution_count": null,
   "metadata": {},
   "outputs": [],
   "source": []
  },
  {
   "cell_type": "code",
   "execution_count": null,
   "metadata": {},
   "outputs": [],
   "source": []
  },
  {
   "cell_type": "code",
   "execution_count": null,
   "metadata": {},
   "outputs": [],
   "source": []
  },
  {
   "cell_type": "code",
   "execution_count": null,
   "metadata": {},
   "outputs": [],
   "source": []
  },
  {
   "cell_type": "code",
   "execution_count": null,
   "metadata": {},
   "outputs": [],
   "source": []
  },
  {
   "cell_type": "code",
   "execution_count": null,
   "metadata": {},
   "outputs": [],
   "source": []
  },
  {
   "cell_type": "code",
   "execution_count": null,
   "metadata": {},
   "outputs": [],
   "source": []
  },
  {
   "cell_type": "code",
   "execution_count": null,
   "metadata": {},
   "outputs": [],
   "source": []
  },
  {
   "cell_type": "code",
   "execution_count": null,
   "metadata": {},
   "outputs": [],
   "source": []
  },
  {
   "cell_type": "code",
   "execution_count": null,
   "metadata": {},
   "outputs": [],
   "source": []
  },
  {
   "cell_type": "code",
   "execution_count": null,
   "metadata": {},
   "outputs": [],
   "source": []
  },
  {
   "cell_type": "code",
   "execution_count": null,
   "metadata": {},
   "outputs": [],
   "source": []
  },
  {
   "cell_type": "code",
   "execution_count": null,
   "metadata": {},
   "outputs": [],
   "source": []
  },
  {
   "cell_type": "code",
   "execution_count": null,
   "metadata": {},
   "outputs": [],
   "source": []
  },
  {
   "cell_type": "code",
   "execution_count": null,
   "metadata": {},
   "outputs": [],
   "source": []
  }
 ],
 "metadata": {
  "kernelspec": {
   "display_name": "Python 3",
   "language": "python",
   "name": "python3"
  },
  "language_info": {
   "codemirror_mode": {
    "name": "ipython",
    "version": 3
   },
   "file_extension": ".py",
   "mimetype": "text/x-python",
   "name": "python",
   "nbconvert_exporter": "python",
   "pygments_lexer": "ipython3",
   "version": "3.7.6"
  }
 },
 "nbformat": 4,
 "nbformat_minor": 4
}
